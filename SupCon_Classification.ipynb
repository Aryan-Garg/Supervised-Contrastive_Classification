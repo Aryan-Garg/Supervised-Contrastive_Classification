{
  "nbformat": 4,
  "nbformat_minor": 0,
  "metadata": {
    "colab": {
      "provenance": [],
      "collapsed_sections": [
        "UlVnIXIVFmHw"
      ],
      "gpuType": "T4"
    },
    "kernelspec": {
      "name": "python3",
      "display_name": "Python 3"
    },
    "language_info": {
      "name": "python"
    },
    "widgets": {
      "application/vnd.jupyter.widget-state+json": {
        "22d9732f02314268ac3726f95fe57916": {
          "model_module": "@jupyter-widgets/controls",
          "model_name": "HBoxModel",
          "model_module_version": "1.5.0",
          "state": {
            "_dom_classes": [],
            "_model_module": "@jupyter-widgets/controls",
            "_model_module_version": "1.5.0",
            "_model_name": "HBoxModel",
            "_view_count": null,
            "_view_module": "@jupyter-widgets/controls",
            "_view_module_version": "1.5.0",
            "_view_name": "HBoxView",
            "box_style": "",
            "children": [
              "IPY_MODEL_6ea3c790518e4a8a90d738e5804d7b09",
              "IPY_MODEL_99b95465805843138bc043a459999abd",
              "IPY_MODEL_7f6b2df7ef644073b87de50a6acd203d"
            ],
            "layout": "IPY_MODEL_4c74f627e4c14763b4b4ebb487bc56bd"
          }
        },
        "6ea3c790518e4a8a90d738e5804d7b09": {
          "model_module": "@jupyter-widgets/controls",
          "model_name": "HTMLModel",
          "model_module_version": "1.5.0",
          "state": {
            "_dom_classes": [],
            "_model_module": "@jupyter-widgets/controls",
            "_model_module_version": "1.5.0",
            "_model_name": "HTMLModel",
            "_view_count": null,
            "_view_module": "@jupyter-widgets/controls",
            "_view_module_version": "1.5.0",
            "_view_name": "HTMLView",
            "description": "",
            "description_tooltip": null,
            "layout": "IPY_MODEL_8e9239bf1fcb4366a5bfba5bee138cd6",
            "placeholder": "​",
            "style": "IPY_MODEL_7cc10e6d1cb24065b43ede15a0529342",
            "value": "Epoch 9: 100%"
          }
        },
        "99b95465805843138bc043a459999abd": {
          "model_module": "@jupyter-widgets/controls",
          "model_name": "FloatProgressModel",
          "model_module_version": "1.5.0",
          "state": {
            "_dom_classes": [],
            "_model_module": "@jupyter-widgets/controls",
            "_model_module_version": "1.5.0",
            "_model_name": "FloatProgressModel",
            "_view_count": null,
            "_view_module": "@jupyter-widgets/controls",
            "_view_module_version": "1.5.0",
            "_view_name": "ProgressView",
            "bar_style": "success",
            "description": "",
            "description_tooltip": null,
            "layout": "IPY_MODEL_2fa89cb75cb44faaa99e4975361814ab",
            "max": 1250,
            "min": 0,
            "orientation": "horizontal",
            "style": "IPY_MODEL_7e9435125c724da4a5493822bbf95325",
            "value": 1250
          }
        },
        "7f6b2df7ef644073b87de50a6acd203d": {
          "model_module": "@jupyter-widgets/controls",
          "model_name": "HTMLModel",
          "model_module_version": "1.5.0",
          "state": {
            "_dom_classes": [],
            "_model_module": "@jupyter-widgets/controls",
            "_model_module_version": "1.5.0",
            "_model_name": "HTMLModel",
            "_view_count": null,
            "_view_module": "@jupyter-widgets/controls",
            "_view_module_version": "1.5.0",
            "_view_name": "HTMLView",
            "description": "",
            "description_tooltip": null,
            "layout": "IPY_MODEL_b7d3849c4dee40cdb5320081f3afd197",
            "placeholder": "​",
            "style": "IPY_MODEL_66ce3c1937174088b11d2c1f4f05f020",
            "value": " 1250/1250 [01:39&lt;00:00, 12.56it/s, v_num=rcdr, SupCon_loss_step=0.428, SupCon_loss_epoch=0.992]"
          }
        },
        "4c74f627e4c14763b4b4ebb487bc56bd": {
          "model_module": "@jupyter-widgets/base",
          "model_name": "LayoutModel",
          "model_module_version": "1.2.0",
          "state": {
            "_model_module": "@jupyter-widgets/base",
            "_model_module_version": "1.2.0",
            "_model_name": "LayoutModel",
            "_view_count": null,
            "_view_module": "@jupyter-widgets/base",
            "_view_module_version": "1.2.0",
            "_view_name": "LayoutView",
            "align_content": null,
            "align_items": null,
            "align_self": null,
            "border": null,
            "bottom": null,
            "display": "inline-flex",
            "flex": null,
            "flex_flow": "row wrap",
            "grid_area": null,
            "grid_auto_columns": null,
            "grid_auto_flow": null,
            "grid_auto_rows": null,
            "grid_column": null,
            "grid_gap": null,
            "grid_row": null,
            "grid_template_areas": null,
            "grid_template_columns": null,
            "grid_template_rows": null,
            "height": null,
            "justify_content": null,
            "justify_items": null,
            "left": null,
            "margin": null,
            "max_height": null,
            "max_width": null,
            "min_height": null,
            "min_width": null,
            "object_fit": null,
            "object_position": null,
            "order": null,
            "overflow": null,
            "overflow_x": null,
            "overflow_y": null,
            "padding": null,
            "right": null,
            "top": null,
            "visibility": null,
            "width": "100%"
          }
        },
        "8e9239bf1fcb4366a5bfba5bee138cd6": {
          "model_module": "@jupyter-widgets/base",
          "model_name": "LayoutModel",
          "model_module_version": "1.2.0",
          "state": {
            "_model_module": "@jupyter-widgets/base",
            "_model_module_version": "1.2.0",
            "_model_name": "LayoutModel",
            "_view_count": null,
            "_view_module": "@jupyter-widgets/base",
            "_view_module_version": "1.2.0",
            "_view_name": "LayoutView",
            "align_content": null,
            "align_items": null,
            "align_self": null,
            "border": null,
            "bottom": null,
            "display": null,
            "flex": null,
            "flex_flow": null,
            "grid_area": null,
            "grid_auto_columns": null,
            "grid_auto_flow": null,
            "grid_auto_rows": null,
            "grid_column": null,
            "grid_gap": null,
            "grid_row": null,
            "grid_template_areas": null,
            "grid_template_columns": null,
            "grid_template_rows": null,
            "height": null,
            "justify_content": null,
            "justify_items": null,
            "left": null,
            "margin": null,
            "max_height": null,
            "max_width": null,
            "min_height": null,
            "min_width": null,
            "object_fit": null,
            "object_position": null,
            "order": null,
            "overflow": null,
            "overflow_x": null,
            "overflow_y": null,
            "padding": null,
            "right": null,
            "top": null,
            "visibility": null,
            "width": null
          }
        },
        "7cc10e6d1cb24065b43ede15a0529342": {
          "model_module": "@jupyter-widgets/controls",
          "model_name": "DescriptionStyleModel",
          "model_module_version": "1.5.0",
          "state": {
            "_model_module": "@jupyter-widgets/controls",
            "_model_module_version": "1.5.0",
            "_model_name": "DescriptionStyleModel",
            "_view_count": null,
            "_view_module": "@jupyter-widgets/base",
            "_view_module_version": "1.2.0",
            "_view_name": "StyleView",
            "description_width": ""
          }
        },
        "2fa89cb75cb44faaa99e4975361814ab": {
          "model_module": "@jupyter-widgets/base",
          "model_name": "LayoutModel",
          "model_module_version": "1.2.0",
          "state": {
            "_model_module": "@jupyter-widgets/base",
            "_model_module_version": "1.2.0",
            "_model_name": "LayoutModel",
            "_view_count": null,
            "_view_module": "@jupyter-widgets/base",
            "_view_module_version": "1.2.0",
            "_view_name": "LayoutView",
            "align_content": null,
            "align_items": null,
            "align_self": null,
            "border": null,
            "bottom": null,
            "display": null,
            "flex": "2",
            "flex_flow": null,
            "grid_area": null,
            "grid_auto_columns": null,
            "grid_auto_flow": null,
            "grid_auto_rows": null,
            "grid_column": null,
            "grid_gap": null,
            "grid_row": null,
            "grid_template_areas": null,
            "grid_template_columns": null,
            "grid_template_rows": null,
            "height": null,
            "justify_content": null,
            "justify_items": null,
            "left": null,
            "margin": null,
            "max_height": null,
            "max_width": null,
            "min_height": null,
            "min_width": null,
            "object_fit": null,
            "object_position": null,
            "order": null,
            "overflow": null,
            "overflow_x": null,
            "overflow_y": null,
            "padding": null,
            "right": null,
            "top": null,
            "visibility": null,
            "width": null
          }
        },
        "7e9435125c724da4a5493822bbf95325": {
          "model_module": "@jupyter-widgets/controls",
          "model_name": "ProgressStyleModel",
          "model_module_version": "1.5.0",
          "state": {
            "_model_module": "@jupyter-widgets/controls",
            "_model_module_version": "1.5.0",
            "_model_name": "ProgressStyleModel",
            "_view_count": null,
            "_view_module": "@jupyter-widgets/base",
            "_view_module_version": "1.2.0",
            "_view_name": "StyleView",
            "bar_color": null,
            "description_width": ""
          }
        },
        "b7d3849c4dee40cdb5320081f3afd197": {
          "model_module": "@jupyter-widgets/base",
          "model_name": "LayoutModel",
          "model_module_version": "1.2.0",
          "state": {
            "_model_module": "@jupyter-widgets/base",
            "_model_module_version": "1.2.0",
            "_model_name": "LayoutModel",
            "_view_count": null,
            "_view_module": "@jupyter-widgets/base",
            "_view_module_version": "1.2.0",
            "_view_name": "LayoutView",
            "align_content": null,
            "align_items": null,
            "align_self": null,
            "border": null,
            "bottom": null,
            "display": null,
            "flex": null,
            "flex_flow": null,
            "grid_area": null,
            "grid_auto_columns": null,
            "grid_auto_flow": null,
            "grid_auto_rows": null,
            "grid_column": null,
            "grid_gap": null,
            "grid_row": null,
            "grid_template_areas": null,
            "grid_template_columns": null,
            "grid_template_rows": null,
            "height": null,
            "justify_content": null,
            "justify_items": null,
            "left": null,
            "margin": null,
            "max_height": null,
            "max_width": null,
            "min_height": null,
            "min_width": null,
            "object_fit": null,
            "object_position": null,
            "order": null,
            "overflow": null,
            "overflow_x": null,
            "overflow_y": null,
            "padding": null,
            "right": null,
            "top": null,
            "visibility": null,
            "width": null
          }
        },
        "66ce3c1937174088b11d2c1f4f05f020": {
          "model_module": "@jupyter-widgets/controls",
          "model_name": "DescriptionStyleModel",
          "model_module_version": "1.5.0",
          "state": {
            "_model_module": "@jupyter-widgets/controls",
            "_model_module_version": "1.5.0",
            "_model_name": "DescriptionStyleModel",
            "_view_count": null,
            "_view_module": "@jupyter-widgets/base",
            "_view_module_version": "1.2.0",
            "_view_name": "StyleView",
            "description_width": ""
          }
        },
        "c019cd5906d940ba950ce72fb45908ae": {
          "model_module": "@jupyter-widgets/controls",
          "model_name": "HBoxModel",
          "model_module_version": "1.5.0",
          "state": {
            "_dom_classes": [],
            "_model_module": "@jupyter-widgets/controls",
            "_model_module_version": "1.5.0",
            "_model_name": "HBoxModel",
            "_view_count": null,
            "_view_module": "@jupyter-widgets/controls",
            "_view_module_version": "1.5.0",
            "_view_name": "HBoxView",
            "box_style": "",
            "children": [
              "IPY_MODEL_31a0214e68cc4c1cb7b49f0a636a3cd1",
              "IPY_MODEL_4ebea7995de447489c3ad1d24f7aae97",
              "IPY_MODEL_556f574ead6d4dd49928d623a132ce78"
            ],
            "layout": "IPY_MODEL_3ba4d725c7674176a3f008922e0cee77"
          }
        },
        "31a0214e68cc4c1cb7b49f0a636a3cd1": {
          "model_module": "@jupyter-widgets/controls",
          "model_name": "HTMLModel",
          "model_module_version": "1.5.0",
          "state": {
            "_dom_classes": [],
            "_model_module": "@jupyter-widgets/controls",
            "_model_module_version": "1.5.0",
            "_model_name": "HTMLModel",
            "_view_count": null,
            "_view_module": "@jupyter-widgets/controls",
            "_view_module_version": "1.5.0",
            "_view_name": "HTMLView",
            "description": "",
            "description_tooltip": null,
            "layout": "IPY_MODEL_7c62d3d1abc24a608c2ae6afe74410ff",
            "placeholder": "​",
            "style": "IPY_MODEL_a07f86133e3e42ffa5b1445648c68f18",
            "value": "Epoch 9: 100%"
          }
        },
        "4ebea7995de447489c3ad1d24f7aae97": {
          "model_module": "@jupyter-widgets/controls",
          "model_name": "FloatProgressModel",
          "model_module_version": "1.5.0",
          "state": {
            "_dom_classes": [],
            "_model_module": "@jupyter-widgets/controls",
            "_model_module_version": "1.5.0",
            "_model_name": "FloatProgressModel",
            "_view_count": null,
            "_view_module": "@jupyter-widgets/controls",
            "_view_module_version": "1.5.0",
            "_view_name": "ProgressView",
            "bar_style": "success",
            "description": "",
            "description_tooltip": null,
            "layout": "IPY_MODEL_cb744acac3784a858bd2bd5489458cb2",
            "max": 1250,
            "min": 0,
            "orientation": "horizontal",
            "style": "IPY_MODEL_8397074bf0844681ad448c071cba4acd",
            "value": 1250
          }
        },
        "556f574ead6d4dd49928d623a132ce78": {
          "model_module": "@jupyter-widgets/controls",
          "model_name": "HTMLModel",
          "model_module_version": "1.5.0",
          "state": {
            "_dom_classes": [],
            "_model_module": "@jupyter-widgets/controls",
            "_model_module_version": "1.5.0",
            "_model_name": "HTMLModel",
            "_view_count": null,
            "_view_module": "@jupyter-widgets/controls",
            "_view_module_version": "1.5.0",
            "_view_name": "HTMLView",
            "description": "",
            "description_tooltip": null,
            "layout": "IPY_MODEL_c6e68cd51dce4b2da9f8da67d4142eef",
            "placeholder": "​",
            "style": "IPY_MODEL_af821f2d76b048b7b4339fe6e9a1a14f",
            "value": " 1250/1250 [00:40&lt;00:00, 30.62it/s, v_num=rcdr, CE_loss_step=2.170, Acc_step=25.00, CE_loss_epoch=2.350, Acc_epoch=11.90]"
          }
        },
        "3ba4d725c7674176a3f008922e0cee77": {
          "model_module": "@jupyter-widgets/base",
          "model_name": "LayoutModel",
          "model_module_version": "1.2.0",
          "state": {
            "_model_module": "@jupyter-widgets/base",
            "_model_module_version": "1.2.0",
            "_model_name": "LayoutModel",
            "_view_count": null,
            "_view_module": "@jupyter-widgets/base",
            "_view_module_version": "1.2.0",
            "_view_name": "LayoutView",
            "align_content": null,
            "align_items": null,
            "align_self": null,
            "border": null,
            "bottom": null,
            "display": "inline-flex",
            "flex": null,
            "flex_flow": "row wrap",
            "grid_area": null,
            "grid_auto_columns": null,
            "grid_auto_flow": null,
            "grid_auto_rows": null,
            "grid_column": null,
            "grid_gap": null,
            "grid_row": null,
            "grid_template_areas": null,
            "grid_template_columns": null,
            "grid_template_rows": null,
            "height": null,
            "justify_content": null,
            "justify_items": null,
            "left": null,
            "margin": null,
            "max_height": null,
            "max_width": null,
            "min_height": null,
            "min_width": null,
            "object_fit": null,
            "object_position": null,
            "order": null,
            "overflow": null,
            "overflow_x": null,
            "overflow_y": null,
            "padding": null,
            "right": null,
            "top": null,
            "visibility": null,
            "width": "100%"
          }
        },
        "7c62d3d1abc24a608c2ae6afe74410ff": {
          "model_module": "@jupyter-widgets/base",
          "model_name": "LayoutModel",
          "model_module_version": "1.2.0",
          "state": {
            "_model_module": "@jupyter-widgets/base",
            "_model_module_version": "1.2.0",
            "_model_name": "LayoutModel",
            "_view_count": null,
            "_view_module": "@jupyter-widgets/base",
            "_view_module_version": "1.2.0",
            "_view_name": "LayoutView",
            "align_content": null,
            "align_items": null,
            "align_self": null,
            "border": null,
            "bottom": null,
            "display": null,
            "flex": null,
            "flex_flow": null,
            "grid_area": null,
            "grid_auto_columns": null,
            "grid_auto_flow": null,
            "grid_auto_rows": null,
            "grid_column": null,
            "grid_gap": null,
            "grid_row": null,
            "grid_template_areas": null,
            "grid_template_columns": null,
            "grid_template_rows": null,
            "height": null,
            "justify_content": null,
            "justify_items": null,
            "left": null,
            "margin": null,
            "max_height": null,
            "max_width": null,
            "min_height": null,
            "min_width": null,
            "object_fit": null,
            "object_position": null,
            "order": null,
            "overflow": null,
            "overflow_x": null,
            "overflow_y": null,
            "padding": null,
            "right": null,
            "top": null,
            "visibility": null,
            "width": null
          }
        },
        "a07f86133e3e42ffa5b1445648c68f18": {
          "model_module": "@jupyter-widgets/controls",
          "model_name": "DescriptionStyleModel",
          "model_module_version": "1.5.0",
          "state": {
            "_model_module": "@jupyter-widgets/controls",
            "_model_module_version": "1.5.0",
            "_model_name": "DescriptionStyleModel",
            "_view_count": null,
            "_view_module": "@jupyter-widgets/base",
            "_view_module_version": "1.2.0",
            "_view_name": "StyleView",
            "description_width": ""
          }
        },
        "cb744acac3784a858bd2bd5489458cb2": {
          "model_module": "@jupyter-widgets/base",
          "model_name": "LayoutModel",
          "model_module_version": "1.2.0",
          "state": {
            "_model_module": "@jupyter-widgets/base",
            "_model_module_version": "1.2.0",
            "_model_name": "LayoutModel",
            "_view_count": null,
            "_view_module": "@jupyter-widgets/base",
            "_view_module_version": "1.2.0",
            "_view_name": "LayoutView",
            "align_content": null,
            "align_items": null,
            "align_self": null,
            "border": null,
            "bottom": null,
            "display": null,
            "flex": "2",
            "flex_flow": null,
            "grid_area": null,
            "grid_auto_columns": null,
            "grid_auto_flow": null,
            "grid_auto_rows": null,
            "grid_column": null,
            "grid_gap": null,
            "grid_row": null,
            "grid_template_areas": null,
            "grid_template_columns": null,
            "grid_template_rows": null,
            "height": null,
            "justify_content": null,
            "justify_items": null,
            "left": null,
            "margin": null,
            "max_height": null,
            "max_width": null,
            "min_height": null,
            "min_width": null,
            "object_fit": null,
            "object_position": null,
            "order": null,
            "overflow": null,
            "overflow_x": null,
            "overflow_y": null,
            "padding": null,
            "right": null,
            "top": null,
            "visibility": null,
            "width": null
          }
        },
        "8397074bf0844681ad448c071cba4acd": {
          "model_module": "@jupyter-widgets/controls",
          "model_name": "ProgressStyleModel",
          "model_module_version": "1.5.0",
          "state": {
            "_model_module": "@jupyter-widgets/controls",
            "_model_module_version": "1.5.0",
            "_model_name": "ProgressStyleModel",
            "_view_count": null,
            "_view_module": "@jupyter-widgets/base",
            "_view_module_version": "1.2.0",
            "_view_name": "StyleView",
            "bar_color": null,
            "description_width": ""
          }
        },
        "c6e68cd51dce4b2da9f8da67d4142eef": {
          "model_module": "@jupyter-widgets/base",
          "model_name": "LayoutModel",
          "model_module_version": "1.2.0",
          "state": {
            "_model_module": "@jupyter-widgets/base",
            "_model_module_version": "1.2.0",
            "_model_name": "LayoutModel",
            "_view_count": null,
            "_view_module": "@jupyter-widgets/base",
            "_view_module_version": "1.2.0",
            "_view_name": "LayoutView",
            "align_content": null,
            "align_items": null,
            "align_self": null,
            "border": null,
            "bottom": null,
            "display": null,
            "flex": null,
            "flex_flow": null,
            "grid_area": null,
            "grid_auto_columns": null,
            "grid_auto_flow": null,
            "grid_auto_rows": null,
            "grid_column": null,
            "grid_gap": null,
            "grid_row": null,
            "grid_template_areas": null,
            "grid_template_columns": null,
            "grid_template_rows": null,
            "height": null,
            "justify_content": null,
            "justify_items": null,
            "left": null,
            "margin": null,
            "max_height": null,
            "max_width": null,
            "min_height": null,
            "min_width": null,
            "object_fit": null,
            "object_position": null,
            "order": null,
            "overflow": null,
            "overflow_x": null,
            "overflow_y": null,
            "padding": null,
            "right": null,
            "top": null,
            "visibility": null,
            "width": null
          }
        },
        "af821f2d76b048b7b4339fe6e9a1a14f": {
          "model_module": "@jupyter-widgets/controls",
          "model_name": "DescriptionStyleModel",
          "model_module_version": "1.5.0",
          "state": {
            "_model_module": "@jupyter-widgets/controls",
            "_model_module_version": "1.5.0",
            "_model_name": "DescriptionStyleModel",
            "_view_count": null,
            "_view_module": "@jupyter-widgets/base",
            "_view_module_version": "1.2.0",
            "_view_name": "StyleView",
            "description_width": ""
          }
        },
        "2f760fa98c2a4a39a0143e1f300edd1b": {
          "model_module": "@jupyter-widgets/controls",
          "model_name": "HBoxModel",
          "model_module_version": "1.5.0",
          "state": {
            "_dom_classes": [],
            "_model_module": "@jupyter-widgets/controls",
            "_model_module_version": "1.5.0",
            "_model_name": "HBoxModel",
            "_view_count": null,
            "_view_module": "@jupyter-widgets/controls",
            "_view_module_version": "1.5.0",
            "_view_name": "HBoxView",
            "box_style": "",
            "children": [
              "IPY_MODEL_d68c5baa161641fda32088cb07f09504",
              "IPY_MODEL_9fc4ed64f188468a9aa7f366705c1015",
              "IPY_MODEL_a73cae6f4a704ccea2b81e0605aac325"
            ],
            "layout": "IPY_MODEL_5535f7d1dced4a3bba40bdd18519461e"
          }
        },
        "d68c5baa161641fda32088cb07f09504": {
          "model_module": "@jupyter-widgets/controls",
          "model_name": "HTMLModel",
          "model_module_version": "1.5.0",
          "state": {
            "_dom_classes": [],
            "_model_module": "@jupyter-widgets/controls",
            "_model_module_version": "1.5.0",
            "_model_name": "HTMLModel",
            "_view_count": null,
            "_view_module": "@jupyter-widgets/controls",
            "_view_module_version": "1.5.0",
            "_view_name": "HTMLView",
            "description": "",
            "description_tooltip": null,
            "layout": "IPY_MODEL_a70d7a3fb148441d80fe05b971bd3d35",
            "placeholder": "​",
            "style": "IPY_MODEL_e12fc87eef4844b69dcfb70792f268be",
            "value": "Testing DataLoader 0: 100%"
          }
        },
        "9fc4ed64f188468a9aa7f366705c1015": {
          "model_module": "@jupyter-widgets/controls",
          "model_name": "FloatProgressModel",
          "model_module_version": "1.5.0",
          "state": {
            "_dom_classes": [],
            "_model_module": "@jupyter-widgets/controls",
            "_model_module_version": "1.5.0",
            "_model_name": "FloatProgressModel",
            "_view_count": null,
            "_view_module": "@jupyter-widgets/controls",
            "_view_module_version": "1.5.0",
            "_view_name": "ProgressView",
            "bar_style": "success",
            "description": "",
            "description_tooltip": null,
            "layout": "IPY_MODEL_eb0e1f444341484687292337bb71b251",
            "max": 250,
            "min": 0,
            "orientation": "horizontal",
            "style": "IPY_MODEL_8af0dd21b64c4bcca77db42ed9c13f5e",
            "value": 250
          }
        },
        "a73cae6f4a704ccea2b81e0605aac325": {
          "model_module": "@jupyter-widgets/controls",
          "model_name": "HTMLModel",
          "model_module_version": "1.5.0",
          "state": {
            "_dom_classes": [],
            "_model_module": "@jupyter-widgets/controls",
            "_model_module_version": "1.5.0",
            "_model_name": "HTMLModel",
            "_view_count": null,
            "_view_module": "@jupyter-widgets/controls",
            "_view_module_version": "1.5.0",
            "_view_name": "HTMLView",
            "description": "",
            "description_tooltip": null,
            "layout": "IPY_MODEL_2c965f51b13144b8aeea98e2547d582c",
            "placeholder": "​",
            "style": "IPY_MODEL_8124da5fec864edfbac6cd8dcbd4aa9d",
            "value": " 250/250 [00:05&lt;00:00, 42.78it/s]"
          }
        },
        "5535f7d1dced4a3bba40bdd18519461e": {
          "model_module": "@jupyter-widgets/base",
          "model_name": "LayoutModel",
          "model_module_version": "1.2.0",
          "state": {
            "_model_module": "@jupyter-widgets/base",
            "_model_module_version": "1.2.0",
            "_model_name": "LayoutModel",
            "_view_count": null,
            "_view_module": "@jupyter-widgets/base",
            "_view_module_version": "1.2.0",
            "_view_name": "LayoutView",
            "align_content": null,
            "align_items": null,
            "align_self": null,
            "border": null,
            "bottom": null,
            "display": "inline-flex",
            "flex": null,
            "flex_flow": "row wrap",
            "grid_area": null,
            "grid_auto_columns": null,
            "grid_auto_flow": null,
            "grid_auto_rows": null,
            "grid_column": null,
            "grid_gap": null,
            "grid_row": null,
            "grid_template_areas": null,
            "grid_template_columns": null,
            "grid_template_rows": null,
            "height": null,
            "justify_content": null,
            "justify_items": null,
            "left": null,
            "margin": null,
            "max_height": null,
            "max_width": null,
            "min_height": null,
            "min_width": null,
            "object_fit": null,
            "object_position": null,
            "order": null,
            "overflow": null,
            "overflow_x": null,
            "overflow_y": null,
            "padding": null,
            "right": null,
            "top": null,
            "visibility": null,
            "width": "100%"
          }
        },
        "a70d7a3fb148441d80fe05b971bd3d35": {
          "model_module": "@jupyter-widgets/base",
          "model_name": "LayoutModel",
          "model_module_version": "1.2.0",
          "state": {
            "_model_module": "@jupyter-widgets/base",
            "_model_module_version": "1.2.0",
            "_model_name": "LayoutModel",
            "_view_count": null,
            "_view_module": "@jupyter-widgets/base",
            "_view_module_version": "1.2.0",
            "_view_name": "LayoutView",
            "align_content": null,
            "align_items": null,
            "align_self": null,
            "border": null,
            "bottom": null,
            "display": null,
            "flex": null,
            "flex_flow": null,
            "grid_area": null,
            "grid_auto_columns": null,
            "grid_auto_flow": null,
            "grid_auto_rows": null,
            "grid_column": null,
            "grid_gap": null,
            "grid_row": null,
            "grid_template_areas": null,
            "grid_template_columns": null,
            "grid_template_rows": null,
            "height": null,
            "justify_content": null,
            "justify_items": null,
            "left": null,
            "margin": null,
            "max_height": null,
            "max_width": null,
            "min_height": null,
            "min_width": null,
            "object_fit": null,
            "object_position": null,
            "order": null,
            "overflow": null,
            "overflow_x": null,
            "overflow_y": null,
            "padding": null,
            "right": null,
            "top": null,
            "visibility": null,
            "width": null
          }
        },
        "e12fc87eef4844b69dcfb70792f268be": {
          "model_module": "@jupyter-widgets/controls",
          "model_name": "DescriptionStyleModel",
          "model_module_version": "1.5.0",
          "state": {
            "_model_module": "@jupyter-widgets/controls",
            "_model_module_version": "1.5.0",
            "_model_name": "DescriptionStyleModel",
            "_view_count": null,
            "_view_module": "@jupyter-widgets/base",
            "_view_module_version": "1.2.0",
            "_view_name": "StyleView",
            "description_width": ""
          }
        },
        "eb0e1f444341484687292337bb71b251": {
          "model_module": "@jupyter-widgets/base",
          "model_name": "LayoutModel",
          "model_module_version": "1.2.0",
          "state": {
            "_model_module": "@jupyter-widgets/base",
            "_model_module_version": "1.2.0",
            "_model_name": "LayoutModel",
            "_view_count": null,
            "_view_module": "@jupyter-widgets/base",
            "_view_module_version": "1.2.0",
            "_view_name": "LayoutView",
            "align_content": null,
            "align_items": null,
            "align_self": null,
            "border": null,
            "bottom": null,
            "display": null,
            "flex": "2",
            "flex_flow": null,
            "grid_area": null,
            "grid_auto_columns": null,
            "grid_auto_flow": null,
            "grid_auto_rows": null,
            "grid_column": null,
            "grid_gap": null,
            "grid_row": null,
            "grid_template_areas": null,
            "grid_template_columns": null,
            "grid_template_rows": null,
            "height": null,
            "justify_content": null,
            "justify_items": null,
            "left": null,
            "margin": null,
            "max_height": null,
            "max_width": null,
            "min_height": null,
            "min_width": null,
            "object_fit": null,
            "object_position": null,
            "order": null,
            "overflow": null,
            "overflow_x": null,
            "overflow_y": null,
            "padding": null,
            "right": null,
            "top": null,
            "visibility": null,
            "width": null
          }
        },
        "8af0dd21b64c4bcca77db42ed9c13f5e": {
          "model_module": "@jupyter-widgets/controls",
          "model_name": "ProgressStyleModel",
          "model_module_version": "1.5.0",
          "state": {
            "_model_module": "@jupyter-widgets/controls",
            "_model_module_version": "1.5.0",
            "_model_name": "ProgressStyleModel",
            "_view_count": null,
            "_view_module": "@jupyter-widgets/base",
            "_view_module_version": "1.2.0",
            "_view_name": "StyleView",
            "bar_color": null,
            "description_width": ""
          }
        },
        "2c965f51b13144b8aeea98e2547d582c": {
          "model_module": "@jupyter-widgets/base",
          "model_name": "LayoutModel",
          "model_module_version": "1.2.0",
          "state": {
            "_model_module": "@jupyter-widgets/base",
            "_model_module_version": "1.2.0",
            "_model_name": "LayoutModel",
            "_view_count": null,
            "_view_module": "@jupyter-widgets/base",
            "_view_module_version": "1.2.0",
            "_view_name": "LayoutView",
            "align_content": null,
            "align_items": null,
            "align_self": null,
            "border": null,
            "bottom": null,
            "display": null,
            "flex": null,
            "flex_flow": null,
            "grid_area": null,
            "grid_auto_columns": null,
            "grid_auto_flow": null,
            "grid_auto_rows": null,
            "grid_column": null,
            "grid_gap": null,
            "grid_row": null,
            "grid_template_areas": null,
            "grid_template_columns": null,
            "grid_template_rows": null,
            "height": null,
            "justify_content": null,
            "justify_items": null,
            "left": null,
            "margin": null,
            "max_height": null,
            "max_width": null,
            "min_height": null,
            "min_width": null,
            "object_fit": null,
            "object_position": null,
            "order": null,
            "overflow": null,
            "overflow_x": null,
            "overflow_y": null,
            "padding": null,
            "right": null,
            "top": null,
            "visibility": null,
            "width": null
          }
        },
        "8124da5fec864edfbac6cd8dcbd4aa9d": {
          "model_module": "@jupyter-widgets/controls",
          "model_name": "DescriptionStyleModel",
          "model_module_version": "1.5.0",
          "state": {
            "_model_module": "@jupyter-widgets/controls",
            "_model_module_version": "1.5.0",
            "_model_name": "DescriptionStyleModel",
            "_view_count": null,
            "_view_module": "@jupyter-widgets/base",
            "_view_module_version": "1.2.0",
            "_view_name": "StyleView",
            "description_width": ""
          }
        }
      }
    },
    "accelerator": "GPU"
  },
  "cells": [
    {
      "cell_type": "markdown",
      "source": [
        "# Task 1: Supervised contrastive loss on any small dataset  \n",
        "\n",
        "> Aryan Garg    \n",
        "\n",
        "\n",
        "#### Dataset Used: CIFAR-10 (4%)"
      ],
      "metadata": {
        "id": "OyIHEe3YHRWR"
      }
    },
    {
      "cell_type": "markdown",
      "source": [
        "## Imports "
      ],
      "metadata": {
        "id": "u1WHNCGpDIha"
      }
    },
    {
      "cell_type": "markdown",
      "source": [
        "### wandb"
      ],
      "metadata": {
        "id": "9230IA-wEA8z"
      }
    },
    {
      "cell_type": "code",
      "source": [
        "try:\n",
        "  import wandb\n",
        "  from pytorch_lightning.loggers import WandbLogger\n",
        "except:\n",
        "  !pip -qqq install wandb pytorch-lightning torchmetrics > /dev/null\n",
        "  import wandb\n",
        "  from pytorch_lightning.loggers import WandbLogger\n",
        "\n",
        "wandb.login()"
      ],
      "metadata": {
        "colab": {
          "base_uri": "https://localhost:8080/",
          "height": 123
        },
        "id": "IVneMT6oEB9Y",
        "outputId": "a1944505-d379-4f7b-9db6-3930602fa871"
      },
      "execution_count": null,
      "outputs": [
        {
          "output_type": "display_data",
          "data": {
            "text/plain": [
              "<IPython.core.display.Javascript object>"
            ],
            "application/javascript": [
              "\n",
              "        window._wandbApiKey = new Promise((resolve, reject) => {\n",
              "            function loadScript(url) {\n",
              "            return new Promise(function(resolve, reject) {\n",
              "                let newScript = document.createElement(\"script\");\n",
              "                newScript.onerror = reject;\n",
              "                newScript.onload = resolve;\n",
              "                document.body.appendChild(newScript);\n",
              "                newScript.src = url;\n",
              "            });\n",
              "            }\n",
              "            loadScript(\"https://cdn.jsdelivr.net/npm/postmate/build/postmate.min.js\").then(() => {\n",
              "            const iframe = document.createElement('iframe')\n",
              "            iframe.style.cssText = \"width:0;height:0;border:none\"\n",
              "            document.body.appendChild(iframe)\n",
              "            const handshake = new Postmate({\n",
              "                container: iframe,\n",
              "                url: 'https://wandb.ai/authorize'\n",
              "            });\n",
              "            const timeout = setTimeout(() => reject(\"Couldn't auto authenticate\"), 5000)\n",
              "            handshake.then(function(child) {\n",
              "                child.on('authorize', data => {\n",
              "                    clearTimeout(timeout)\n",
              "                    resolve(data)\n",
              "                });\n",
              "            });\n",
              "            })\n",
              "        });\n",
              "    "
            ]
          },
          "metadata": {}
        },
        {
          "output_type": "stream",
          "name": "stderr",
          "text": [
            "\u001b[34m\u001b[1mwandb\u001b[0m: Logging into wandb.ai. (Learn how to deploy a W&B server locally: https://wandb.me/wandb-server)\n",
            "\u001b[34m\u001b[1mwandb\u001b[0m: You can find your API key in your browser here: https://wandb.ai/authorize\n",
            "wandb: Paste an API key from your profile and hit enter, or press ctrl+c to quit:"
          ]
        },
        {
          "name": "stdout",
          "output_type": "stream",
          "text": [
            " ··········\n"
          ]
        },
        {
          "output_type": "stream",
          "name": "stderr",
          "text": [
            "\u001b[34m\u001b[1mwandb\u001b[0m: Appending key for api.wandb.ai to your netrc file: /root/.netrc\n"
          ]
        },
        {
          "output_type": "execute_result",
          "data": {
            "text/plain": [
              "True"
            ]
          },
          "metadata": {},
          "execution_count": 1
        }
      ]
    },
    {
      "cell_type": "markdown",
      "source": [
        "### Lightning"
      ],
      "metadata": {
        "id": "1dsONO-wEIz7"
      }
    },
    {
      "cell_type": "code",
      "source": [
        "try:\n",
        "  import lightning.pytorch as pl\n",
        "except:\n",
        "  print(\"[!] Couldn't find pytorch-lightning.\\nInstalling it...\\n\")\n",
        "  !pip install lightning > /dev/null\n",
        "  import lightning.pytorch as pl"
      ],
      "metadata": {
        "id": "vbBN6d0lEJ9m",
        "colab": {
          "base_uri": "https://localhost:8080/"
        },
        "outputId": "326b194b-f283-4753-b625-8f5f921c6f12"
      },
      "execution_count": null,
      "outputs": [
        {
          "output_type": "stream",
          "name": "stdout",
          "text": [
            "[!] Couldn't find pytorch-lightning.\n",
            "Installing it...\n",
            "\n"
          ]
        }
      ]
    },
    {
      "cell_type": "code",
      "source": [
        "from lightning.pytorch.utilities.model_summary import ModelSummary\n",
        "from pytorch_lightning import seed_everything"
      ],
      "metadata": {
        "id": "_AETxvpaEPyW"
      },
      "execution_count": null,
      "outputs": []
    },
    {
      "cell_type": "markdown",
      "source": [
        "### Standard Imports"
      ],
      "metadata": {
        "id": "Q6XZqqwIECyT"
      }
    },
    {
      "cell_type": "code",
      "source": [
        "import os\n",
        "import shutil\n",
        "import pathlib\n",
        "import copy\n",
        "import time\n",
        "import random\n",
        "import math\n",
        "\n",
        "# Imaging & Viz Libs\n",
        "from PIL import Image, ImageEnhance, ImageOps\n",
        "from scipy import ndimage\n",
        "import matplotlib.pyplot as plt\n",
        "import cv2 as cv\n",
        "\n",
        "# Core libs\n",
        "import numpy as np\n",
        "import seaborn as sns\n",
        "from tqdm.notebook import tqdm\n",
        "\n",
        "# Torch stuff\n",
        "import torch\n",
        "import torch.nn as nn\n",
        "import torch.nn.functional as F\n",
        "from torch import optim\n",
        "\n",
        "from torch.optim import lr_scheduler\n",
        "from torch.cuda import amp\n",
        "\n",
        "from torch.utils.data import DataLoader, random_split, Dataset\n",
        "from torch.utils.data import Dataset\n",
        "\n",
        "import torchvision\n",
        "from torchvision import datasets\n",
        "from torchvision.utils import make_grid\n",
        "import torchvision.transforms as T\n",
        "\n",
        "# sklearn\n",
        "from sklearn.preprocessing import LabelEncoder\n",
        "from sklearn.model_selection import train_test_split, StratifiedKFold, GroupKFold\n",
        "from sklearn.metrics import roc_auc_score, f1_score\n",
        "\n",
        "# Albumentations for augs\n",
        "from collections import defaultdict\n",
        "try:\n",
        "  import albumentations as A\n",
        "  from albumentations.pytorch import ToTensorV2\n",
        "except:\n",
        "  print(\"[!] Couldn't find albumentations... installing it...\")\n",
        "  !pip install -U albumentations > /dev/null\n",
        "  import albumentations as A\n",
        "  from albumentations.pytorch import ToTensorV2\n",
        "\n",
        "# timm :)\n",
        "try:\n",
        "  import timm\n",
        "  from pytorch_metric_learning import losses\n",
        "except:\n",
        "  print(f\"Installing timm pytorch-metric-learning\")\n",
        "  !pip install -q timm pytorch-metric-learning > /dev/null\n",
        "  import timm\n",
        "  from pytorch_metric_learning import losses"
      ],
      "metadata": {
        "id": "7ow1spBTD5F_",
        "colab": {
          "base_uri": "https://localhost:8080/"
        },
        "outputId": "e9992e72-0148-474c-a00f-ae63fc0dce12"
      },
      "execution_count": null,
      "outputs": [
        {
          "output_type": "stream",
          "name": "stdout",
          "text": [
            "Installing timm pytorch-metric-learning\n"
          ]
        }
      ]
    },
    {
      "cell_type": "markdown",
      "source": [
        "## (Custom) Utilities"
      ],
      "metadata": {
        "id": "OVk0YoxzFUbM"
      }
    },
    {
      "cell_type": "code",
      "source": [
        "# Folder Utilities ----------------------------\n",
        "\n",
        "## Create dir if it doesn't exist\n",
        "def create_dir(dir_name):\n",
        "  if not os.path.exists(f'/content/{dir_name}'):\n",
        "    os.mkdir(f'/content/{dir_name}')\n",
        "\n",
        "## Delete dir: checkpoints\n",
        "def delete_dir(dir_name):\n",
        "  if os.path.isdir(f'/content/{dir_name}'):\n",
        "    shutil.rmtree(f'/content/{dir_name}')\n",
        "\n",
        "# ---------------------------------------------\n",
        "create_dir(\"checkpoints\")"
      ],
      "metadata": {
        "id": "kbB4PYq-FX67"
      },
      "execution_count": null,
      "outputs": []
    },
    {
      "cell_type": "markdown",
      "source": [
        "## Configurations & Devices"
      ],
      "metadata": {
        "id": "B-yp41t5FazK"
      }
    },
    {
      "cell_type": "code",
      "source": [
        "CONFIG = {'seed': 42, \n",
        "          'model_name': 'tf_efficientnet_b4_ns',\n",
        "          'img_size': 32,\n",
        "          'scheduler' : 'CosineAnnealingLR', \n",
        "          'T_max' : 10,\n",
        "          'lr' : 1e-4, \n",
        "          'min_lr' : 1e-6,\n",
        "          'batch_size' : 4,\n",
        "          'weight_decay' : 1e-6,\n",
        "          'num_epochs' : 10,\n",
        "          'num_classes' : 10,\n",
        "          'embedding_size' : 2048,\n",
        "          'n_accumulate' : 4,\n",
        "          'temperature' : 0.7,\n",
        "          'checkpoint_path' : '/content/checkpoints',\n",
        "          'auto_aug': False\n",
        "          }"
      ],
      "metadata": {
        "id": "MjZv6e0RFDW0"
      },
      "execution_count": null,
      "outputs": []
    },
    {
      "cell_type": "code",
      "source": [
        "seed_everything(CONFIG['seed'])"
      ],
      "metadata": {
        "colab": {
          "base_uri": "https://localhost:8080/"
        },
        "id": "iGiI17neIQQ4",
        "outputId": "ccece1b6-0dac-4d5d-9b59-ec493f3d9448"
      },
      "execution_count": null,
      "outputs": [
        {
          "output_type": "stream",
          "name": "stderr",
          "text": [
            "INFO:lightning_fabric.utilities.seed:Global seed set to 42\n"
          ]
        },
        {
          "output_type": "execute_result",
          "data": {
            "text/plain": [
              "42"
            ]
          },
          "metadata": {},
          "execution_count": 12
        }
      ]
    },
    {
      "cell_type": "code",
      "source": [
        "# device = torch.device('cpu')\n",
        "if torch.cuda.is_available():\n",
        "  device = torch.device('cuda')\n",
        "else:\n",
        "  device = torch.device('cpu')\n",
        "\n",
        "device"
      ],
      "metadata": {
        "colab": {
          "base_uri": "https://localhost:8080/"
        },
        "id": "sCj-1TbdIWDj",
        "outputId": "5306e83c-d287-4ec8-b175-ce30075bcfc2"
      },
      "execution_count": null,
      "outputs": [
        {
          "output_type": "execute_result",
          "data": {
            "text/plain": [
              "device(type='cuda')"
            ]
          },
          "metadata": {},
          "execution_count": 13
        }
      ]
    },
    {
      "cell_type": "markdown",
      "source": [
        "## Transforms"
      ],
      "metadata": {
        "id": "O36Gf5KkFde4"
      }
    },
    {
      "cell_type": "markdown",
      "source": [
        "## DuplicateSampleTransform"
      ],
      "metadata": {
        "id": "a5o7oPG5j5lW"
      }
    },
    {
      "cell_type": "code",
      "source": [
        "class DuplicateSampleTransform:\n",
        "    def __init__(self, transform):\n",
        "        self.transform = transform\n",
        "\n",
        "    def __call__(self, sample):\n",
        "        \"\"\"\n",
        "        sample == torch.DataLoader item\n",
        "        returns -> (torch.Tensor, torch.Tensor)\n",
        "        \"\"\"\n",
        "        xi = self.transform(sample)\n",
        "        xj = self.transform(sample)\n",
        "        return xi, xj"
      ],
      "metadata": {
        "id": "CW3Z52yTj7zn"
      },
      "execution_count": null,
      "outputs": []
    },
    {
      "cell_type": "markdown",
      "source": [
        "### Create the transforms"
      ],
      "metadata": {
        "id": "rzwn8NeMOyZ6"
      }
    },
    {
      "cell_type": "code",
      "source": [
        "# Statistics of CIFAR-10:\n",
        "mean = (0.4914, 0.4822, 0.4465)\n",
        "std = (0.2023, 0.1994, 0.2010)\n",
        "\n",
        "# Train Transform\n",
        "transform_train = [T.RandomCrop(32, padding=4), T.RandomHorizontalFlip(),]\n",
        "\n",
        "if CONFIG['auto_aug']: # Use pytorch inbuilt (class above can be used if this fails)\n",
        "  transform_train.append(T.AutoAugment(T.AutoAugmentPolicy.CIFAR10))\n",
        "\n",
        "transform_train.extend([T.ToTensor(), T.Normalize(mean, std),])\n",
        "\n",
        "transform_train = T.Compose(transform_train)\n",
        "\n",
        "# For stage 1 training: 2N samples\n",
        "train_contrastive_transform = DuplicateSampleTransform(transform_train)\n",
        "\n",
        "# Test transforms\n",
        "transform_test = T.Compose([T.ToTensor(), T.Normalize(mean, std),])"
      ],
      "metadata": {
        "id": "czYADBjXNfg8"
      },
      "execution_count": null,
      "outputs": []
    },
    {
      "cell_type": "markdown",
      "source": [
        "## Dataset & DataLoader"
      ],
      "metadata": {
        "id": "Fpp-24ZVFfg_"
      }
    },
    {
      "cell_type": "code",
      "source": [
        "trainset_contrastive = torchvision.datasets.CIFAR10(root='/content/cont_data', train=True,\n",
        "                                        download=True, transform=train_contrastive_transform)\n",
        "\n",
        "trainset = torchvision.datasets.CIFAR10(root='/content/data', train=True,\n",
        "                                        download=True, transform=transform_train)\n",
        "\n",
        "testset = torchvision.datasets.CIFAR10(root='/content/data', train=False,\n",
        "                                       download=True, transform=transform_test)"
      ],
      "metadata": {
        "colab": {
          "base_uri": "https://localhost:8080/"
        },
        "id": "HVFeVo2_Mp97",
        "outputId": "c76f9ca1-bd41-4f21-a497-3821558657c9"
      },
      "execution_count": null,
      "outputs": [
        {
          "output_type": "stream",
          "name": "stdout",
          "text": [
            "Downloading https://www.cs.toronto.edu/~kriz/cifar-10-python.tar.gz to /content/cont_data/cifar-10-python.tar.gz\n"
          ]
        },
        {
          "output_type": "stream",
          "name": "stderr",
          "text": [
            "100%|██████████| 170498071/170498071 [00:01<00:00, 87492297.23it/s]\n"
          ]
        },
        {
          "output_type": "stream",
          "name": "stdout",
          "text": [
            "Extracting /content/cont_data/cifar-10-python.tar.gz to /content/cont_data\n",
            "Downloading https://www.cs.toronto.edu/~kriz/cifar-10-python.tar.gz to /content/data/cifar-10-python.tar.gz\n"
          ]
        },
        {
          "output_type": "stream",
          "name": "stderr",
          "text": [
            "100%|██████████| 170498071/170498071 [00:02<00:00, 84858298.84it/s]\n"
          ]
        },
        {
          "output_type": "stream",
          "name": "stdout",
          "text": [
            "Extracting /content/data/cifar-10-python.tar.gz to /content/data\n",
            "Files already downloaded and verified\n"
          ]
        }
      ]
    },
    {
      "cell_type": "code",
      "source": [
        "len(trainset), len(testset), len(trainset_contrastive)"
      ],
      "metadata": {
        "colab": {
          "base_uri": "https://localhost:8080/"
        },
        "id": "CDp5NT6Zc3Ut",
        "outputId": "778b3ffc-bb11-4875-dbcc-4012cb2f296e"
      },
      "execution_count": null,
      "outputs": [
        {
          "output_type": "execute_result",
          "data": {
            "text/plain": [
              "(50000, 10000, 50000)"
            ]
          },
          "metadata": {},
          "execution_count": 17
        }
      ]
    },
    {
      "cell_type": "code",
      "source": [
        "\n",
        "# ****\n",
        "# WARNING: Cell takes about 2-3 minutes to execute\n",
        "# ****\n",
        "\n",
        "# 4% train data, 5% test data\n",
        "\n",
        "%time\n",
        "\n",
        "def subset_dataset(dataset: torchvision.datasets, per_class_samples = 200):\n",
        "  cnt_class = np.zeros(10)\n",
        "  indices_lst = []\n",
        "  for i in range(len(dataset)):\n",
        "    _, label = dataset[i]\n",
        "    if cnt_class[label] < per_class_samples:\n",
        "      indices_lst.append(i)\n",
        "      cnt_class[label] += 1\n",
        "\n",
        "  small_ds = torch.utils.data.Subset(dataset, indices_lst)\n",
        "\n",
        "  return small_ds \n",
        "\n",
        "\n",
        "small_trainset = subset_dataset(trainset, 500)\n",
        "small_testset = subset_dataset(trainset, 100) # 4:1 ratio or 80:20 split\n",
        "small_trainset_contrastive = subset_dataset(trainset_contrastive, 500)\n",
        "\n",
        "# 200 per class == 2000 images' dataset"
      ],
      "metadata": {
        "id": "dsU45-ylMNXU",
        "colab": {
          "base_uri": "https://localhost:8080/"
        },
        "outputId": "7d3b09bd-3539-4881-b93f-c2e197bd1bb7"
      },
      "execution_count": null,
      "outputs": [
        {
          "output_type": "stream",
          "name": "stdout",
          "text": [
            "CPU times: user 3 µs, sys: 1e+03 ns, total: 4 µs\n",
            "Wall time: 6.91 µs\n"
          ]
        }
      ]
    },
    {
      "cell_type": "code",
      "source": [
        "# torch.save(small_trainset, 's_trainset.pt')\n",
        "# torch.save(small_testset, 's_testset.pt')\n",
        "# torch.save(small_trainset_contrastive, 's_trainset_contrastive.pt')"
      ],
      "metadata": {
        "id": "TQEwUfHESoC_"
      },
      "execution_count": null,
      "outputs": []
    },
    {
      "cell_type": "code",
      "source": [
        "trainloader = DataLoader(small_trainset, batch_size=CONFIG['batch_size'], shuffle=True, num_workers=2)\n",
        "\n",
        "testloader = DataLoader(small_testset, batch_size=CONFIG['batch_size'], shuffle=False, num_workers=2)\n",
        "\n",
        "trainloader_contrastive = DataLoader(small_trainset_contrastive, batch_size=CONFIG['batch_size'], shuffle=True)"
      ],
      "metadata": {
        "id": "sHLwX97vNBge"
      },
      "execution_count": null,
      "outputs": []
    },
    {
      "cell_type": "markdown",
      "source": [
        "## Sanity Visualizations"
      ],
      "metadata": {
        "id": "UlVnIXIVFmHw"
      }
    },
    {
      "cell_type": "code",
      "source": [
        "classes = ('plane', 'car', 'bird', 'cat', 'deer', 'dog', 'frog', 'horse', 'ship', 'truck')"
      ],
      "metadata": {
        "id": "g88rf4CKM7WL"
      },
      "execution_count": null,
      "outputs": []
    },
    {
      "cell_type": "code",
      "source": [
        "def imshow(img):\n",
        "    img = img / 2 + 0.5     # unnormalize\n",
        "    npimg = img.numpy()\n",
        "    plt.imshow(np.transpose(npimg, (1, 2, 0)))\n",
        "    plt.show()\n",
        "\n",
        "# get some random training images\n",
        "dataiter = iter(trainloader)\n",
        "images, labels = next(dataiter)\n",
        "\n",
        "# show images\n",
        "imshow(torchvision.utils.make_grid(images))\n",
        "# print labels\n",
        "print(' '.join(f'{classes[labels[j]]:5s}' for j in range(CONFIG['batch_size'])))"
      ],
      "metadata": {
        "colab": {
          "base_uri": "https://localhost:8080/",
          "height": 228
        },
        "id": "iiAUD8kvNJx3",
        "outputId": "9f77e22b-b7db-497b-fed3-fb840cb34bde"
      },
      "execution_count": null,
      "outputs": [
        {
          "output_type": "stream",
          "name": "stderr",
          "text": [
            "WARNING:matplotlib.image:Clipping input data to the valid range for imshow with RGB data ([0..1] for floats or [0..255] for integers).\n"
          ]
        },
        {
          "output_type": "display_data",
          "data": {
            "text/plain": [
              "<Figure size 640x480 with 1 Axes>"
            ],
            "image/png": "[encoded data removed]"
          },
          "metadata": {}
        },
        {
          "output_type": "stream",
          "name": "stdout",
          "text": [
            "ship  horse plane car  \n"
          ]
        }
      ]
    },
    {
      "cell_type": "code",
      "source": [
        "imgs, label = next(iter(trainloader_contrastive))\n",
        "imgs_1, imgs_2 = imgs\n",
        "imshow(make_grid(imgs_1))\n",
        "imshow(make_grid(imgs_2))\n",
        "print([classes[i] for i in label])"
      ],
      "metadata": {
        "colab": {
          "base_uri": "https://localhost:8080/",
          "height": 422
        },
        "id": "zFYNofMFmG-p",
        "outputId": "ae41358c-f126-4781-d5de-c1729de40ea2"
      },
      "execution_count": null,
      "outputs": [
        {
          "output_type": "stream",
          "name": "stderr",
          "text": [
            "WARNING:matplotlib.image:Clipping input data to the valid range for imshow with RGB data ([0..1] for floats or [0..255] for integers).\n"
          ]
        },
        {
          "output_type": "display_data",
          "data": {
            "text/plain": [
              "<Figure size 640x480 with 1 Axes>"
            ],
            "image/png": "[encoded data removed]"
          },
          "metadata": {}
        },
        {
          "output_type": "stream",
          "name": "stderr",
          "text": [
            "WARNING:matplotlib.image:Clipping input data to the valid range for imshow with RGB data ([0..1] for floats or [0..255] for integers).\n"
          ]
        },
        {
          "output_type": "display_data",
          "data": {
            "text/plain": [
              "<Figure size 640x480 with 1 Axes>"
            ],
            "image/png": "[encoded data removed]"
          },
          "metadata": {}
        },
        {
          "output_type": "stream",
          "name": "stdout",
          "text": [
            "['frog', 'bird', 'frog', 'cat']\n"
          ]
        }
      ]
    },
    {
      "cell_type": "markdown",
      "source": [
        "## Model Archs"
      ],
      "metadata": {
        "id": "ap9LL4G5qPbb"
      }
    },
    {
      "cell_type": "markdown",
      "source": [
        "### Projector Net"
      ],
      "metadata": {
        "id": "AegI9CQ6sixO"
      }
    },
    {
      "cell_type": "code",
      "source": [
        "class ProjectorNet(nn.Module):\n",
        "  def __init__(self):\n",
        "    super().__init__()\n",
        "    self.linear = nn.Linear(CONFIG['embedding_size'], 128)\n",
        "\n",
        "  def forward(self, x):\n",
        "    out = self.linear(x)\n",
        "    return out"
      ],
      "metadata": {
        "id": "A6BWLy4QqQo4"
      },
      "execution_count": null,
      "outputs": []
    },
    {
      "cell_type": "markdown",
      "source": [
        "### Classifier Net"
      ],
      "metadata": {
        "id": "8JAABrxKsk2O"
      }
    },
    {
      "cell_type": "code",
      "source": [
        "class ClassifierNet(nn.Module):\n",
        "  def __init__(self):\n",
        "    super().__init__()\n",
        "    self.model = nn.Sequential([\n",
        "        nn.Linear(CONFIG['embedding_size'], 1000), # as per paper \n",
        "        nn.ReLU(inplace=True),\n",
        "        nn.Linear(1000, CONFIG['num_classes']) # will treat output as logits!\n",
        "        ])\n",
        "\n",
        "  def forward(self, x):\n",
        "    out = self.model(x)\n",
        "    return out"
      ],
      "metadata": {
        "id": "MUZjAvU0smYN"
      },
      "execution_count": null,
      "outputs": []
    },
    {
      "cell_type": "markdown",
      "source": [
        "## SupCon Loss"
      ],
      "metadata": {
        "id": "LV6zJrnuI4JV"
      }
    },
    {
      "cell_type": "code",
      "source": [
        "class SupervisedContrastiveLoss(nn.Module):\n",
        "    def __init__(self, temperature=0.1):\n",
        "        super(SupervisedContrastiveLoss, self).__init__()\n",
        "        self.temperature = temperature\n",
        "\n",
        "    def forward(self, feature_vectors, labels):\n",
        "        # Normalize feature vectors\n",
        "        feature_vectors_normalized = F.normalize(feature_vectors, p=2, dim=1)\n",
        "        # Compute logits\n",
        "        logits = torch.div(\n",
        "            torch.matmul(\n",
        "                feature_vectors_normalized, torch.transpose(feature_vectors_normalized, 0, 1)\n",
        "            ),\n",
        "            self.temperature,\n",
        "        )\n",
        "        return losses.NTXentLoss(temperature=0.07)(logits, torch.squeeze(labels))"
      ],
      "metadata": {
        "id": "KhDwzyAUI52J"
      },
      "execution_count": null,
      "outputs": []
    },
    {
      "cell_type": "markdown",
      "source": [
        "## Lightning Recipe"
      ],
      "metadata": {
        "id": "97nnhiifFywr"
      }
    },
    {
      "cell_type": "code",
      "source": [
        "class LIT_SupCon(pl.LightningModule):\n",
        "  def __init__(self, model, projector=None, classifier=None, isContrastive=True):\n",
        "    super().__init__()\n",
        "\n",
        "    self.save_hyperparameters(ignore=[projector, model, classifier])\n",
        "    self.automatic_optimization = False\n",
        "\n",
        "    self.model = model\n",
        "\n",
        "    self.isContrastive = isContrastive\n",
        "\n",
        "    if self.isContrastive:\n",
        "      assert projector is not None, \"Please pass in a projector network\"\n",
        "      self.projector = projector\n",
        "      self.criterion = SupervisedContrastiveLoss(temperature=CONFIG['temperature']).to(device)\n",
        "    else:\n",
        "      assert classifier is not None, \"Please pass in a classifier layer to train\"\n",
        "      self.criterion = nn.CrossEntropyLoss().to(device)\n",
        "      self.classifier = classifier\n",
        "      for param in self.model.parameters():\n",
        "        param.requires_grad = False\n",
        "    \n",
        "  \n",
        "  def configure_optimizers(self):\n",
        "    optimizer = optim.Adam(self.model.parameters(), lr=CONFIG['lr'], weight_decay=CONFIG['weight_decay'])\n",
        "    scheduler = lr_scheduler.CosineAnnealingLR(optimizer, T_max=CONFIG['T_max'], eta_min=CONFIG['min_lr'])\n",
        "    return [optimizer], [scheduler]\n",
        "\n",
        "  def forward(self):\n",
        "    pass\n",
        "\n",
        "  def test_step(self, batch, batch_idx):\n",
        "    imgs, targets = batch\n",
        "    \n",
        "    embeddings = self.model(imgs)\n",
        "    outputs = self.classifier(embeddings)\n",
        "\n",
        "    test_loss = self.criterion(outputs, targets)\n",
        "\n",
        "    predictions = torch.argmax(outputs, dim = 1) \n",
        "    # print(\"preds, targets:\", predictions, targets)\n",
        "    tp_count = (predictions == targets).sum()\n",
        "\n",
        "    self.log_dict({\"CE_loss_test\": test_loss, \"Acc_test\": 100. *  tp_count / len(targets)}, \n",
        "                    on_step=True, on_epoch=True, prog_bar=True, logger=True)\n",
        "    \n",
        "\n",
        "  def training_step(self, batch, batch_idx):\n",
        "    opt = self.optimizers()\n",
        "    sch = self.lr_schedulers()\n",
        "\n",
        "    if self.isContrastive: # stage 1 training -- contrastive loss on embedding space\n",
        "      imgs, labels = batch\n",
        "\n",
        "      inputs = torch.cat(imgs)\n",
        "      targets = labels.repeat(2)\n",
        "      # print(inputs.shape, inputs.device, targets.shape, targets.device)\n",
        "      # print(f\"Labels: {targets}\")\n",
        "      embeddings = self.model(inputs)\n",
        "      outputs = self.projector(embeddings)\n",
        "\n",
        "    else: # stage 2 training -- classifier\n",
        "      imgs, targets = batch\n",
        "      embeddings = self.model(imgs)\n",
        "      \n",
        "      outputs = self.classifier(embeddings) # here projector is the classifier layer (#num_classes, input_embedding_dims)\n",
        "    \n",
        "    loss = self.criterion(outputs, targets)\n",
        "\n",
        "    self.manual_backward(loss)\n",
        "    opt.step()\n",
        "    opt.zero_grad()\n",
        "\n",
        "    if (batch_idx + 1) % CONFIG['batch_size'] == 0:\n",
        "      sch.step()\n",
        "\n",
        "    # self.logger.experiment.log({\"Gen_Image_1 (during training)\":[wandb.Image(fake_imgs[gen_id].cpu(), caption=\"Generated (train_step)\")]})\n",
        "    if self.isContrastive:\n",
        "      self.log_dict({\"SupCon_loss\": loss}, on_step=True, on_epoch=True, prog_bar=True, logger=True)\n",
        "    else:\n",
        "      # outputs = outputs.detach()\n",
        "      predictions = torch.argmax(outputs, dim = 1) \n",
        "      # print(\"preds, targets:\", predictions, targets)\n",
        "      tp_count = (predictions == targets).sum()\n",
        "\n",
        "      self.log_dict({\"CE_loss\": loss, \"Acc\": 100. *  tp_count / len(targets)}, \n",
        "                    on_step=True, on_epoch=True, prog_bar=True, logger=True)\n",
        "    \n",
        "        "
      ],
      "metadata": {
        "id": "fMBza7WaF1Cn"
      },
      "execution_count": null,
      "outputs": []
    },
    {
      "cell_type": "code",
      "source": [
        "# init: Model performance & acc :: Efficient_Net_b4 > resNet-50\n",
        "model = timm.create_model(CONFIG['model_name'], pretrained=True)\n",
        "\n",
        "# classifier == Projector Network right now -- stage 1\n",
        "in_features = model.classifier.in_features\n",
        "model.classifier = nn.Linear(in_features, CONFIG['embedding_size'])    \n",
        "\n",
        "projector = ProjectorNet() # Projector will be discarded in stage 2\n",
        "# Dummy pass:\n",
        "out = model(torch.randn(4, 3, CONFIG['img_size'], CONFIG['img_size']))\n",
        "pr_out = projector(out)\n",
        "\n",
        "print(f'Embedding shape: {out.shape} | Projected Embedding shape: {pr_out.shape}')"
      ],
      "metadata": {
        "colab": {
          "base_uri": "https://localhost:8080/"
        },
        "id": "8q7-GybZGgz-",
        "outputId": "3bc0fcb0-18e6-4f5e-8553-623f5d673303"
      },
      "execution_count": null,
      "outputs": [
        {
          "output_type": "stream",
          "name": "stderr",
          "text": [
            "/usr/local/lib/python3.10/dist-packages/timm/models/_factory.py:114: UserWarning: Mapping deprecated model name tf_efficientnet_b4_ns to current tf_efficientnet_b4.ns_jft_in1k.\n",
            "  model = create_fn(\n"
          ]
        },
        {
          "output_type": "stream",
          "name": "stdout",
          "text": [
            "Embedding shape: torch.Size([4, 2048]) | Projected Embedding shape: torch.Size([4, 128])\n"
          ]
        }
      ]
    },
    {
      "cell_type": "code",
      "source": [
        "classifier = ClassifierNet()"
      ],
      "metadata": {
        "colab": {
          "base_uri": "https://localhost:8080/",
          "height": 316
        },
        "id": "_ERYQlOw1F4y",
        "outputId": "42bf8243-0388-43c5-f7f3-a5eae630065b"
      },
      "execution_count": null,
      "outputs": [
        {
          "output_type": "error",
          "ename": "TypeError",
          "evalue": "ignored",
          "traceback": [
            "\u001b[0;31m---------------------------------------------------------------------------\u001b[0m",
            "\u001b[0;31mTypeError\u001b[0m                                 Traceback (most recent call last)",
            "\u001b[0;32m<ipython-input-62-84e3d76c404b>\u001b[0m in \u001b[0;36m<cell line: 1>\u001b[0;34m()\u001b[0m\n\u001b[0;32m----> 1\u001b[0;31m \u001b[0mclassifier\u001b[0m \u001b[0;34m=\u001b[0m \u001b[0mClassifierNet\u001b[0m\u001b[0;34m(\u001b[0m\u001b[0;34m)\u001b[0m\u001b[0;34m\u001b[0m\u001b[0;34m\u001b[0m\u001b[0m\n\u001b[0m",
            "\u001b[0;32m<ipython-input-58-79ea2954f094>\u001b[0m in \u001b[0;36m__init__\u001b[0;34m(self)\u001b[0m\n\u001b[1;32m      2\u001b[0m   \u001b[0;32mdef\u001b[0m \u001b[0m__init__\u001b[0m\u001b[0;34m(\u001b[0m\u001b[0mself\u001b[0m\u001b[0;34m)\u001b[0m\u001b[0;34m:\u001b[0m\u001b[0;34m\u001b[0m\u001b[0;34m\u001b[0m\u001b[0m\n\u001b[1;32m      3\u001b[0m     \u001b[0msuper\u001b[0m\u001b[0;34m(\u001b[0m\u001b[0;34m)\u001b[0m\u001b[0;34m.\u001b[0m\u001b[0m__init__\u001b[0m\u001b[0;34m(\u001b[0m\u001b[0;34m)\u001b[0m\u001b[0;34m\u001b[0m\u001b[0;34m\u001b[0m\u001b[0m\n\u001b[0;32m----> 4\u001b[0;31m     self.model = nn.Sequential([\n\u001b[0m\u001b[1;32m      5\u001b[0m         \u001b[0mnn\u001b[0m\u001b[0;34m.\u001b[0m\u001b[0mLinear\u001b[0m\u001b[0;34m(\u001b[0m\u001b[0mCONFIG\u001b[0m\u001b[0;34m[\u001b[0m\u001b[0;34m'embedding_size'\u001b[0m\u001b[0;34m]\u001b[0m\u001b[0;34m,\u001b[0m \u001b[0;36m1000\u001b[0m\u001b[0;34m)\u001b[0m\u001b[0;34m,\u001b[0m \u001b[0;31m# as per paper\u001b[0m\u001b[0;34m\u001b[0m\u001b[0;34m\u001b[0m\u001b[0m\n\u001b[1;32m      6\u001b[0m         \u001b[0mnn\u001b[0m\u001b[0;34m.\u001b[0m\u001b[0mReLU\u001b[0m\u001b[0;34m(\u001b[0m\u001b[0minplace\u001b[0m\u001b[0;34m=\u001b[0m\u001b[0;32mTrue\u001b[0m\u001b[0;34m)\u001b[0m\u001b[0;34m,\u001b[0m\u001b[0;34m\u001b[0m\u001b[0;34m\u001b[0m\u001b[0m\n",
            "\u001b[0;32m/usr/local/lib/python3.10/dist-packages/torch/nn/modules/container.py\u001b[0m in \u001b[0;36m__init__\u001b[0;34m(self, *args)\u001b[0m\n\u001b[1;32m    102\u001b[0m         \u001b[0;32melse\u001b[0m\u001b[0;34m:\u001b[0m\u001b[0;34m\u001b[0m\u001b[0;34m\u001b[0m\u001b[0m\n\u001b[1;32m    103\u001b[0m             \u001b[0;32mfor\u001b[0m \u001b[0midx\u001b[0m\u001b[0;34m,\u001b[0m \u001b[0mmodule\u001b[0m \u001b[0;32min\u001b[0m \u001b[0menumerate\u001b[0m\u001b[0;34m(\u001b[0m\u001b[0margs\u001b[0m\u001b[0;34m)\u001b[0m\u001b[0;34m:\u001b[0m\u001b[0;34m\u001b[0m\u001b[0;34m\u001b[0m\u001b[0m\n\u001b[0;32m--> 104\u001b[0;31m                 \u001b[0mself\u001b[0m\u001b[0;34m.\u001b[0m\u001b[0madd_module\u001b[0m\u001b[0;34m(\u001b[0m\u001b[0mstr\u001b[0m\u001b[0;34m(\u001b[0m\u001b[0midx\u001b[0m\u001b[0;34m)\u001b[0m\u001b[0;34m,\u001b[0m \u001b[0mmodule\u001b[0m\u001b[0;34m)\u001b[0m\u001b[0;34m\u001b[0m\u001b[0;34m\u001b[0m\u001b[0m\n\u001b[0m\u001b[1;32m    105\u001b[0m \u001b[0;34m\u001b[0m\u001b[0m\n\u001b[1;32m    106\u001b[0m     \u001b[0;32mdef\u001b[0m \u001b[0m_get_item_by_idx\u001b[0m\u001b[0;34m(\u001b[0m\u001b[0mself\u001b[0m\u001b[0;34m,\u001b[0m \u001b[0miterator\u001b[0m\u001b[0;34m,\u001b[0m \u001b[0midx\u001b[0m\u001b[0;34m)\u001b[0m \u001b[0;34m->\u001b[0m \u001b[0mT\u001b[0m\u001b[0;34m:\u001b[0m\u001b[0;34m\u001b[0m\u001b[0;34m\u001b[0m\u001b[0m\n",
            "\u001b[0;32m/usr/local/lib/python3.10/dist-packages/torch/nn/modules/module.py\u001b[0m in \u001b[0;36madd_module\u001b[0;34m(self, name, module)\u001b[0m\n\u001b[1;32m    594\u001b[0m         \"\"\"\n\u001b[1;32m    595\u001b[0m         \u001b[0;32mif\u001b[0m \u001b[0;32mnot\u001b[0m \u001b[0misinstance\u001b[0m\u001b[0;34m(\u001b[0m\u001b[0mmodule\u001b[0m\u001b[0;34m,\u001b[0m \u001b[0mModule\u001b[0m\u001b[0;34m)\u001b[0m \u001b[0;32mand\u001b[0m \u001b[0mmodule\u001b[0m \u001b[0;32mis\u001b[0m \u001b[0;32mnot\u001b[0m \u001b[0;32mNone\u001b[0m\u001b[0;34m:\u001b[0m\u001b[0;34m\u001b[0m\u001b[0;34m\u001b[0m\u001b[0m\n\u001b[0;32m--> 596\u001b[0;31m             raise TypeError(\"{} is not a Module subclass\".format(\n\u001b[0m\u001b[1;32m    597\u001b[0m                 torch.typename(module)))\n\u001b[1;32m    598\u001b[0m         \u001b[0;32melif\u001b[0m \u001b[0;32mnot\u001b[0m \u001b[0misinstance\u001b[0m\u001b[0;34m(\u001b[0m\u001b[0mname\u001b[0m\u001b[0;34m,\u001b[0m \u001b[0mstr\u001b[0m\u001b[0;34m)\u001b[0m\u001b[0;34m:\u001b[0m\u001b[0;34m\u001b[0m\u001b[0;34m\u001b[0m\u001b[0m\n",
            "\u001b[0;31mTypeError\u001b[0m: list is not a Module subclass"
          ]
        }
      ]
    },
    {
      "cell_type": "code",
      "source": [
        "sup = LIT_SupCon(model, projector, classifier, isContrastive=True)\n",
        "\n",
        "summary = ModelSummary(sup, max_depth=-1)\n",
        "# print(summary)"
      ],
      "metadata": {
        "colab": {
          "base_uri": "https://localhost:8080/"
        },
        "id": "jU1KYxwpd3OU",
        "outputId": "7973b005-7ea9-47ac-cf9b-70bb47bac8d6"
      },
      "execution_count": null,
      "outputs": [
        {
          "output_type": "stream",
          "name": "stderr",
          "text": [
            "/usr/local/lib/python3.10/dist-packages/lightning/pytorch/utilities/parsing.py:197: UserWarning: Attribute 'model' is an instance of `nn.Module` and is already saved during checkpointing. It is recommended to ignore them using `self.save_hyperparameters(ignore=['model'])`.\n",
            "  rank_zero_warn(\n",
            "/usr/local/lib/python3.10/dist-packages/lightning/pytorch/utilities/parsing.py:197: UserWarning: Attribute 'projector' is an instance of `nn.Module` and is already saved during checkpointing. It is recommended to ignore them using `self.save_hyperparameters(ignore=['projector'])`.\n",
            "  rank_zero_warn(\n",
            "/usr/local/lib/python3.10/dist-packages/lightning/pytorch/utilities/parsing.py:197: UserWarning: Attribute 'classifier' is an instance of `nn.Module` and is already saved during checkpointing. It is recommended to ignore them using `self.save_hyperparameters(ignore=['classifier'])`.\n",
            "  rank_zero_warn(\n"
          ]
        }
      ]
    },
    {
      "cell_type": "markdown",
      "source": [
        "## Trainer (+ Callbacks & Logger) "
      ],
      "metadata": {
        "id": "aPeu-8o9Gpjp"
      }
    },
    {
      "cell_type": "code",
      "source": [
        "from pytorch_lightning import Callback\n",
        "from lightning.pytorch.callbacks import DeviceStatsMonitor, TQDMProgressBar, ModelCheckpoint, EarlyStopping, LearningRateMonitor\n",
        "\n",
        "# Checkpoint\n",
        "checkpoint_callback = ModelCheckpoint(dirpath=CONFIG['checkpoint_path'],\n",
        "                                      filename='{epoch}-{SupCon_loss:.3f}',\n",
        "                                      monitor='SupCon_loss', # Need to change this everytime\n",
        "                                      save_top_k=5,\n",
        "                                      save_last=True,\n",
        "                                      save_weights_only=True,\n",
        "                                      verbose=True,\n",
        "                                      mode='min')\n",
        "\n",
        "# Exp2: Learning Rate Monitor\n",
        "lr_monitor = LearningRateMonitor(logging_interval='step', log_momentum=True)\n",
        "\n",
        "# Earlystopping\n",
        "# earlystopping = EarlyStopping(monitor='val_acc', patience=3, mode='min')"
      ],
      "metadata": {
        "id": "hme-EEGjGrJL"
      },
      "execution_count": null,
      "outputs": []
    },
    {
      "cell_type": "code",
      "source": [
        "wandb_logger = WandbLogger(project='Supervised_Contrastive', \n",
        "                           name='exp-2_No_AutoAug_10perc',\n",
        "                           config=CONFIG,\n",
        "                           job_type='train',\n",
        "                           log_model=\"all\")"
      ],
      "metadata": {
        "id": "u-7z2MMJGt26",
        "colab": {
          "base_uri": "https://localhost:8080/",
          "height": 122
        },
        "outputId": "24bfbd6e-9d9c-446f-9d32-e21b3197c2e1"
      },
      "execution_count": null,
      "outputs": [
        {
          "output_type": "stream",
          "name": "stderr",
          "text": [
            "\u001b[34m\u001b[1mwandb\u001b[0m: Currently logged in as: \u001b[33maryangarg019\u001b[0m. Use \u001b[1m`wandb login --relogin`\u001b[0m to force relogin\n"
          ]
        },
        {
          "output_type": "display_data",
          "data": {
            "text/plain": [
              "<IPython.core.display.HTML object>"
            ],
            "text/html": [
              "Tracking run with wandb version 0.15.3"
            ]
          },
          "metadata": {}
        },
        {
          "output_type": "display_data",
          "data": {
            "text/plain": [
              "<IPython.core.display.HTML object>"
            ],
            "text/html": [
              "Run data is saved locally in <code>./wandb/run-20230605_083257-ldmurcdr</code>"
            ]
          },
          "metadata": {}
        },
        {
          "output_type": "display_data",
          "data": {
            "text/plain": [
              "<IPython.core.display.HTML object>"
            ],
            "text/html": [
              "Syncing run <strong><a href='https://wandb.ai/aryangarg019/Supervised_Contrastive/runs/ldmurcdr' target=\"_blank\">exp-2_No_AutoAug_10perc</a></strong> to <a href='https://wandb.ai/aryangarg019/Supervised_Contrastive' target=\"_blank\">Weights & Biases</a> (<a href='https://wandb.me/run' target=\"_blank\">docs</a>)<br/>"
            ]
          },
          "metadata": {}
        },
        {
          "output_type": "display_data",
          "data": {
            "text/plain": [
              "<IPython.core.display.HTML object>"
            ],
            "text/html": [
              " View project at <a href='https://wandb.ai/aryangarg019/Supervised_Contrastive' target=\"_blank\">https://wandb.ai/aryangarg019/Supervised_Contrastive</a>"
            ]
          },
          "metadata": {}
        },
        {
          "output_type": "display_data",
          "data": {
            "text/plain": [
              "<IPython.core.display.HTML object>"
            ],
            "text/html": [
              " View run at <a href='https://wandb.ai/aryangarg019/Supervised_Contrastive/runs/ldmurcdr' target=\"_blank\">https://wandb.ai/aryangarg019/Supervised_Contrastive/runs/ldmurcdr</a>"
            ]
          },
          "metadata": {}
        }
      ]
    },
    {
      "cell_type": "code",
      "source": [
        "trainer = pl.Trainer(fast_dev_run=False,    # For debugging purposes\n",
        "                     log_every_n_steps=1,   # set the logging frequency\n",
        "                     accelerator='auto',    # Precedence: tpu > gpu >> cpu\n",
        "                     devices=\"auto\",        # all\n",
        "                     max_epochs=CONFIG['num_epochs'], # number of epochs\n",
        "                     callbacks=[TQDMProgressBar(refresh_rate=25), \n",
        "                                checkpoint_callback, \n",
        "                                lr_monitor],\n",
        "                     logger=wandb_logger,    # wandb <3\n",
        "                     )"
      ],
      "metadata": {
        "id": "QslpBbn8HADO",
        "colab": {
          "base_uri": "https://localhost:8080/"
        },
        "outputId": "7883a0c6-4d56-44c5-bda5-7190c0a3814f"
      },
      "execution_count": null,
      "outputs": [
        {
          "output_type": "stream",
          "name": "stderr",
          "text": [
            "INFO: GPU available: True (cuda), used: True\n",
            "INFO:lightning.pytorch.utilities.rank_zero:GPU available: True (cuda), used: True\n",
            "INFO: TPU available: False, using: 0 TPU cores\n",
            "INFO:lightning.pytorch.utilities.rank_zero:TPU available: False, using: 0 TPU cores\n",
            "INFO: IPU available: False, using: 0 IPUs\n",
            "INFO:lightning.pytorch.utilities.rank_zero:IPU available: False, using: 0 IPUs\n",
            "INFO: HPU available: False, using: 0 HPUs\n",
            "INFO:lightning.pytorch.utilities.rank_zero:HPU available: False, using: 0 HPUs\n"
          ]
        }
      ]
    },
    {
      "cell_type": "markdown",
      "source": [
        "## Training Stage 1 "
      ],
      "metadata": {
        "id": "t-AH8NagHEZ6"
      }
    },
    {
      "cell_type": "code",
      "source": [
        "trainer.fit(sup, trainloader_contrastive)"
      ],
      "metadata": {
        "id": "6Mf9yuNJHFl2",
        "colab": {
          "base_uri": "https://localhost:8080/",
          "height": 883,
          "referenced_widgets": [
            "22d9732f02314268ac3726f95fe57916",
            "6ea3c790518e4a8a90d738e5804d7b09",
            "99b95465805843138bc043a459999abd",
            "7f6b2df7ef644073b87de50a6acd203d",
            "4c74f627e4c14763b4b4ebb487bc56bd",
            "8e9239bf1fcb4366a5bfba5bee138cd6",
            "7cc10e6d1cb24065b43ede15a0529342",
            "2fa89cb75cb44faaa99e4975361814ab",
            "7e9435125c724da4a5493822bbf95325",
            "b7d3849c4dee40cdb5320081f3afd197",
            "66ce3c1937174088b11d2c1f4f05f020"
          ]
        },
        "outputId": "2e4fabb1-4d93-432e-f93b-a4c225e6cb9d"
      },
      "execution_count": null,
      "outputs": [
        {
          "output_type": "stream",
          "name": "stderr",
          "text": [
            "INFO: LOCAL_RANK: 0 - CUDA_VISIBLE_DEVICES: [0]\n",
            "INFO:lightning.pytorch.accelerators.cuda:LOCAL_RANK: 0 - CUDA_VISIBLE_DEVICES: [0]\n",
            "INFO: \n",
            "  | Name      | Type                      | Params\n",
            "--------------------------------------------------------\n",
            "0 | model     | EfficientNet              | 21.2 M\n",
            "1 | projector | ProjectorNet              | 262 K \n",
            "2 | criterion | SupervisedContrastiveLoss | 0     \n",
            "--------------------------------------------------------\n",
            "21.5 M    Trainable params\n",
            "0         Non-trainable params\n",
            "21.5 M    Total params\n",
            "85.932    Total estimated model params size (MB)\n",
            "INFO:lightning.pytorch.callbacks.model_summary:\n",
            "  | Name      | Type                      | Params\n",
            "--------------------------------------------------------\n",
            "0 | model     | EfficientNet              | 21.2 M\n",
            "1 | projector | ProjectorNet              | 262 K \n",
            "2 | criterion | SupervisedContrastiveLoss | 0     \n",
            "--------------------------------------------------------\n",
            "21.5 M    Trainable params\n",
            "0         Non-trainable params\n",
            "21.5 M    Total params\n",
            "85.932    Total estimated model params size (MB)\n"
          ]
        },
        {
          "output_type": "display_data",
          "data": {
            "text/plain": [
              "Training: 0it [00:00, ?it/s]"
            ],
            "application/vnd.jupyter.widget-view+json": {
              "version_major": 2,
              "version_minor": 0,
              "model_id": "22d9732f02314268ac3726f95fe57916"
            }
          },
          "metadata": {}
        },
        {
          "output_type": "stream",
          "name": "stderr",
          "text": [
            "INFO: Epoch 0, global step 1250: 'SupCon_loss' reached 3.62325 (best 3.62325), saving model to '/content/checkpoints/epoch=0-SupCon_loss=3.623.ckpt' as top 5\n",
            "INFO:lightning.pytorch.utilities.rank_zero:Epoch 0, global step 1250: 'SupCon_loss' reached 3.62325 (best 3.62325), saving model to '/content/checkpoints/epoch=0-SupCon_loss=3.623.ckpt' as top 5\n",
            "INFO: Epoch 1, global step 2500: 'SupCon_loss' reached 3.01694 (best 3.01694), saving model to '/content/checkpoints/epoch=1-SupCon_loss=3.017.ckpt' as top 5\n",
            "INFO:lightning.pytorch.utilities.rank_zero:Epoch 1, global step 2500: 'SupCon_loss' reached 3.01694 (best 3.01694), saving model to '/content/checkpoints/epoch=1-SupCon_loss=3.017.ckpt' as top 5\n",
            "INFO: Epoch 2, global step 3750: 'SupCon_loss' reached 2.76908 (best 2.76908), saving model to '/content/checkpoints/epoch=2-SupCon_loss=2.769.ckpt' as top 5\n",
            "INFO:lightning.pytorch.utilities.rank_zero:Epoch 2, global step 3750: 'SupCon_loss' reached 2.76908 (best 2.76908), saving model to '/content/checkpoints/epoch=2-SupCon_loss=2.769.ckpt' as top 5\n",
            "INFO: Epoch 3, global step 5000: 'SupCon_loss' reached 2.39028 (best 2.39028), saving model to '/content/checkpoints/epoch=3-SupCon_loss=2.390.ckpt' as top 5\n",
            "INFO:lightning.pytorch.utilities.rank_zero:Epoch 3, global step 5000: 'SupCon_loss' reached 2.39028 (best 2.39028), saving model to '/content/checkpoints/epoch=3-SupCon_loss=2.390.ckpt' as top 5\n",
            "INFO: Epoch 4, global step 6250: 'SupCon_loss' reached 1.78655 (best 1.78655), saving model to '/content/checkpoints/epoch=4-SupCon_loss=1.787.ckpt' as top 5\n",
            "INFO:lightning.pytorch.utilities.rank_zero:Epoch 4, global step 6250: 'SupCon_loss' reached 1.78655 (best 1.78655), saving model to '/content/checkpoints/epoch=4-SupCon_loss=1.787.ckpt' as top 5\n",
            "INFO: Epoch 5, global step 7500: 'SupCon_loss' reached 1.33229 (best 1.33229), saving model to '/content/checkpoints/epoch=5-SupCon_loss=1.332.ckpt' as top 5\n",
            "INFO:lightning.pytorch.utilities.rank_zero:Epoch 5, global step 7500: 'SupCon_loss' reached 1.33229 (best 1.33229), saving model to '/content/checkpoints/epoch=5-SupCon_loss=1.332.ckpt' as top 5\n",
            "INFO: Epoch 6, global step 8750: 'SupCon_loss' reached 1.21209 (best 1.21209), saving model to '/content/checkpoints/epoch=6-SupCon_loss=1.212.ckpt' as top 5\n",
            "INFO:lightning.pytorch.utilities.rank_zero:Epoch 6, global step 8750: 'SupCon_loss' reached 1.21209 (best 1.21209), saving model to '/content/checkpoints/epoch=6-SupCon_loss=1.212.ckpt' as top 5\n",
            "INFO: Epoch 7, global step 10000: 'SupCon_loss' reached 1.14793 (best 1.14793), saving model to '/content/checkpoints/epoch=7-SupCon_loss=1.148.ckpt' as top 5\n",
            "INFO:lightning.pytorch.utilities.rank_zero:Epoch 7, global step 10000: 'SupCon_loss' reached 1.14793 (best 1.14793), saving model to '/content/checkpoints/epoch=7-SupCon_loss=1.148.ckpt' as top 5\n",
            "INFO: Epoch 8, global step 11250: 'SupCon_loss' reached 1.07003 (best 1.07003), saving model to '/content/checkpoints/epoch=8-SupCon_loss=1.070.ckpt' as top 5\n",
            "INFO:lightning.pytorch.utilities.rank_zero:Epoch 8, global step 11250: 'SupCon_loss' reached 1.07003 (best 1.07003), saving model to '/content/checkpoints/epoch=8-SupCon_loss=1.070.ckpt' as top 5\n",
            "INFO: Epoch 9, global step 12500: 'SupCon_loss' reached 0.99225 (best 0.99225), saving model to '/content/checkpoints/epoch=9-SupCon_loss=0.992.ckpt' as top 5\n",
            "INFO:lightning.pytorch.utilities.rank_zero:Epoch 9, global step 12500: 'SupCon_loss' reached 0.99225 (best 0.99225), saving model to '/content/checkpoints/epoch=9-SupCon_loss=0.992.ckpt' as top 5\n",
            "INFO: `Trainer.fit` stopped: `max_epochs=10` reached.\n",
            "INFO:lightning.pytorch.utilities.rank_zero:`Trainer.fit` stopped: `max_epochs=10` reached.\n"
          ]
        }
      ]
    },
    {
      "cell_type": "markdown",
      "source": [
        "## Training Stage 2"
      ],
      "metadata": {
        "id": "gvuuKxypurSe"
      }
    },
    {
      "cell_type": "markdown",
      "source": [
        "### Load best weights"
      ],
      "metadata": {
        "id": "n90H4nAloNwd"
      }
    },
    {
      "cell_type": "code",
      "source": [
        "last_ckpt = \"last.ckpt\"\n",
        "bestEnc = LIT_SupCon.load_from_checkpoint(f\"/content/checkpoints/{last_ckpt}\", map_location=device)\n",
        "\n",
        "summary = ModelSummary(bestEnc, max_depth=-1)\n",
        "# print(summary)"
      ],
      "metadata": {
        "id": "51CB-om3uvkp",
        "colab": {
          "base_uri": "https://localhost:8080/"
        },
        "outputId": "65533e4e-21da-4ac3-ff63-f409cebc7756"
      },
      "execution_count": null,
      "outputs": [
        {
          "output_type": "stream",
          "name": "stderr",
          "text": [
            "/usr/local/lib/python3.10/dist-packages/lightning/pytorch/utilities/parsing.py:197: UserWarning: Attribute 'model' is an instance of `nn.Module` and is already saved during checkpointing. It is recommended to ignore them using `self.save_hyperparameters(ignore=['model'])`.\n",
            "  rank_zero_warn(\n",
            "/usr/local/lib/python3.10/dist-packages/lightning/pytorch/utilities/parsing.py:197: UserWarning: Attribute 'projector' is an instance of `nn.Module` and is already saved during checkpointing. It is recommended to ignore them using `self.save_hyperparameters(ignore=['projector'])`.\n",
            "  rank_zero_warn(\n",
            "/usr/local/lib/python3.10/dist-packages/lightning/pytorch/utilities/parsing.py:197: UserWarning: Attribute 'classifier' is an instance of `nn.Module` and is already saved during checkpointing. It is recommended to ignore them using `self.save_hyperparameters(ignore=['classifier'])`.\n",
            "  rank_zero_warn(\n"
          ]
        }
      ]
    },
    {
      "cell_type": "markdown",
      "source": [
        "## t-SNE: feature embedding space visualization?"
      ],
      "metadata": {
        "id": "CzDFB9_GisBl"
      }
    },
    {
      "cell_type": "code",
      "source": [
        "print(bestEnc.model(torch.randn(4,3,32,32).to(device)).shape)\n",
        "out_vec = bestEnc.model(torch.randn(4,3,32,32).to(device))\n",
        "projector = projector.to(device)\n",
        "print(projector(out_vec).shape)\n",
        "# use this to train classifier: bestEnc.model"
      ],
      "metadata": {
        "colab": {
          "base_uri": "https://localhost:8080/"
        },
        "id": "gqLFBVMIl4Ne",
        "outputId": "4ec55478-f9a1-4693-d5d9-35c3286da185"
      },
      "execution_count": null,
      "outputs": [
        {
          "output_type": "stream",
          "name": "stdout",
          "text": [
            "torch.Size([4, 2048])\n",
            "torch.Size([4, 128])\n"
          ]
        }
      ]
    },
    {
      "cell_type": "code",
      "source": [
        "# import numpy as np\n",
        "# from sklearn.manifold import TSNE\n",
        "\n",
        "# X = []\n",
        "# id2class = {0:'plane', 1:'car', 2:'bird', 3: 'cat', 4: 'deer', 5: 'dog', 6: 'frog', 7:'horse', 8:'ship', 9:'truck'}\n",
        "\n",
        "# class_cnt = {'plane': [], 'car': [], 'bird': [], \n",
        "#              'cat': [], \n",
        "#              'deer': [], \n",
        "#              'dog': [], \n",
        "#              'frog': [], \n",
        "#              'horse': [], \n",
        "#              'ship': [], \n",
        "#              'truck': []}\n",
        "\n",
        "# itr = 0\n",
        "# for i, batch in enumerate(trainloader):\n",
        "#   x,y = batch\n",
        "#   x = x.to(device)\n",
        "#   for e in y:\n",
        "#     class_cnt[id2class[int(e.cpu().numpy())]].append(itr)\n",
        "#     itr += 1\n",
        "\n",
        "#   out = projector(bestEnc.model(x))\n",
        "\n",
        "#   for ele in out:\n",
        "#     X.append(ele.detach().cpu().numpy())\n",
        "\n",
        "# X = np.array(X)"
      ],
      "metadata": {
        "id": "DJV-ZpB6sKa-"
      },
      "execution_count": null,
      "outputs": []
    },
    {
      "cell_type": "code",
      "source": [
        "# X_embedded = TSNE(n_components=128, learning_rate='auto',method='exact', init='random', perplexity=5).fit_transform(X)\n",
        "# X_embedded.shape"
      ],
      "metadata": {
        "colab": {
          "base_uri": "https://localhost:8080/",
          "height": 245
        },
        "id": "ivilJH6svH29",
        "outputId": "65b92660-db21-4ec8-dbad-6bd724595534"
      },
      "execution_count": null,
      "outputs": [
        {
          "output_type": "error",
          "ename": "KeyboardInterrupt",
          "evalue": "ignored",
          "traceback": [
            "\u001b[0;31m---------------------------------------------------------------------------\u001b[0m",
            "\u001b[0;31mKeyboardInterrupt\u001b[0m                         Traceback (most recent call last)",
            "\u001b[0;32m<ipython-input-57-fc9cc9069264>\u001b[0m in \u001b[0;36m<cell line: 1>\u001b[0;34m()\u001b[0m\n\u001b[0;32m----> 1\u001b[0;31m \u001b[0mX_embedded\u001b[0m \u001b[0;34m=\u001b[0m \u001b[0mTSNE\u001b[0m\u001b[0;34m(\u001b[0m\u001b[0mn_components\u001b[0m\u001b[0;34m=\u001b[0m\u001b[0;36m128\u001b[0m\u001b[0;34m,\u001b[0m \u001b[0mlearning_rate\u001b[0m\u001b[0;34m=\u001b[0m\u001b[0;34m'auto'\u001b[0m\u001b[0;34m,\u001b[0m\u001b[0mmethod\u001b[0m\u001b[0;34m=\u001b[0m\u001b[0;34m'exact'\u001b[0m\u001b[0;34m,\u001b[0m \u001b[0minit\u001b[0m\u001b[0;34m=\u001b[0m\u001b[0;34m'random'\u001b[0m\u001b[0;34m,\u001b[0m \u001b[0mperplexity\u001b[0m\u001b[0;34m=\u001b[0m\u001b[0;36m5\u001b[0m\u001b[0;34m)\u001b[0m\u001b[0;34m.\u001b[0m\u001b[0mfit_transform\u001b[0m\u001b[0;34m(\u001b[0m\u001b[0mX\u001b[0m\u001b[0;34m)\u001b[0m\u001b[0;34m\u001b[0m\u001b[0;34m\u001b[0m\u001b[0m\n\u001b[0m\u001b[1;32m      2\u001b[0m \u001b[0mX_embedded\u001b[0m\u001b[0;34m.\u001b[0m\u001b[0mshape\u001b[0m\u001b[0;34m\u001b[0m\u001b[0;34m\u001b[0m\u001b[0m\n",
            "\u001b[0;32m/usr/local/lib/python3.10/dist-packages/sklearn/manifold/_t_sne.py\u001b[0m in \u001b[0;36mfit_transform\u001b[0;34m(self, X, y)\u001b[0m\n\u001b[1;32m   1117\u001b[0m         \u001b[0mself\u001b[0m\u001b[0;34m.\u001b[0m\u001b[0m_validate_params\u001b[0m\u001b[0;34m(\u001b[0m\u001b[0;34m)\u001b[0m\u001b[0;34m\u001b[0m\u001b[0;34m\u001b[0m\u001b[0m\n\u001b[1;32m   1118\u001b[0m         \u001b[0mself\u001b[0m\u001b[0;34m.\u001b[0m\u001b[0m_check_params_vs_input\u001b[0m\u001b[0;34m(\u001b[0m\u001b[0mX\u001b[0m\u001b[0;34m)\u001b[0m\u001b[0;34m\u001b[0m\u001b[0;34m\u001b[0m\u001b[0m\n\u001b[0;32m-> 1119\u001b[0;31m         \u001b[0membedding\u001b[0m \u001b[0;34m=\u001b[0m \u001b[0mself\u001b[0m\u001b[0;34m.\u001b[0m\u001b[0m_fit\u001b[0m\u001b[0;34m(\u001b[0m\u001b[0mX\u001b[0m\u001b[0;34m)\u001b[0m\u001b[0;34m\u001b[0m\u001b[0;34m\u001b[0m\u001b[0m\n\u001b[0m\u001b[1;32m   1120\u001b[0m         \u001b[0mself\u001b[0m\u001b[0;34m.\u001b[0m\u001b[0membedding_\u001b[0m \u001b[0;34m=\u001b[0m \u001b[0membedding\u001b[0m\u001b[0;34m\u001b[0m\u001b[0;34m\u001b[0m\u001b[0m\n\u001b[1;32m   1121\u001b[0m         \u001b[0;32mreturn\u001b[0m \u001b[0mself\u001b[0m\u001b[0;34m.\u001b[0m\u001b[0membedding_\u001b[0m\u001b[0;34m\u001b[0m\u001b[0;34m\u001b[0m\u001b[0m\n",
            "\u001b[0;32m/usr/local/lib/python3.10/dist-packages/sklearn/manifold/_t_sne.py\u001b[0m in \u001b[0;36m_fit\u001b[0;34m(self, X, skip_num_points)\u001b[0m\n\u001b[1;32m   1010\u001b[0m         \u001b[0mdegrees_of_freedom\u001b[0m \u001b[0;34m=\u001b[0m \u001b[0mmax\u001b[0m\u001b[0;34m(\u001b[0m\u001b[0mself\u001b[0m\u001b[0;34m.\u001b[0m\u001b[0mn_components\u001b[0m \u001b[0;34m-\u001b[0m \u001b[0;36m1\u001b[0m\u001b[0;34m,\u001b[0m \u001b[0;36m1\u001b[0m\u001b[0;34m)\u001b[0m\u001b[0;34m\u001b[0m\u001b[0;34m\u001b[0m\u001b[0m\n\u001b[1;32m   1011\u001b[0m \u001b[0;34m\u001b[0m\u001b[0m\n\u001b[0;32m-> 1012\u001b[0;31m         return self._tsne(\n\u001b[0m\u001b[1;32m   1013\u001b[0m             \u001b[0mP\u001b[0m\u001b[0;34m,\u001b[0m\u001b[0;34m\u001b[0m\u001b[0;34m\u001b[0m\u001b[0m\n\u001b[1;32m   1014\u001b[0m             \u001b[0mdegrees_of_freedom\u001b[0m\u001b[0;34m,\u001b[0m\u001b[0;34m\u001b[0m\u001b[0;34m\u001b[0m\u001b[0m\n",
            "\u001b[0;32m/usr/local/lib/python3.10/dist-packages/sklearn/manifold/_t_sne.py\u001b[0m in \u001b[0;36m_tsne\u001b[0;34m(self, P, degrees_of_freedom, n_samples, X_embedded, neighbors, skip_num_points)\u001b[0m\n\u001b[1;32m   1078\u001b[0m             \u001b[0mopt_args\u001b[0m\u001b[0;34m[\u001b[0m\u001b[0;34m\"momentum\"\u001b[0m\u001b[0;34m]\u001b[0m \u001b[0;34m=\u001b[0m \u001b[0;36m0.8\u001b[0m\u001b[0;34m\u001b[0m\u001b[0;34m\u001b[0m\u001b[0m\n\u001b[1;32m   1079\u001b[0m             \u001b[0mopt_args\u001b[0m\u001b[0;34m[\u001b[0m\u001b[0;34m\"n_iter_without_progress\"\u001b[0m\u001b[0;34m]\u001b[0m \u001b[0;34m=\u001b[0m \u001b[0mself\u001b[0m\u001b[0;34m.\u001b[0m\u001b[0mn_iter_without_progress\u001b[0m\u001b[0;34m\u001b[0m\u001b[0;34m\u001b[0m\u001b[0m\n\u001b[0;32m-> 1080\u001b[0;31m             \u001b[0mparams\u001b[0m\u001b[0;34m,\u001b[0m \u001b[0mkl_divergence\u001b[0m\u001b[0;34m,\u001b[0m \u001b[0mit\u001b[0m \u001b[0;34m=\u001b[0m \u001b[0m_gradient_descent\u001b[0m\u001b[0;34m(\u001b[0m\u001b[0mobj_func\u001b[0m\u001b[0;34m,\u001b[0m \u001b[0mparams\u001b[0m\u001b[0;34m,\u001b[0m \u001b[0;34m**\u001b[0m\u001b[0mopt_args\u001b[0m\u001b[0;34m)\u001b[0m\u001b[0;34m\u001b[0m\u001b[0;34m\u001b[0m\u001b[0m\n\u001b[0m\u001b[1;32m   1081\u001b[0m \u001b[0;34m\u001b[0m\u001b[0m\n\u001b[1;32m   1082\u001b[0m         \u001b[0;31m# Save the final number of iterations\u001b[0m\u001b[0;34m\u001b[0m\u001b[0;34m\u001b[0m\u001b[0m\n",
            "\u001b[0;32m/usr/local/lib/python3.10/dist-packages/sklearn/manifold/_t_sne.py\u001b[0m in \u001b[0;36m_gradient_descent\u001b[0;34m(objective, p0, it, n_iter, n_iter_check, n_iter_without_progress, momentum, learning_rate, min_gain, min_grad_norm, verbose, args, kwargs)\u001b[0m\n\u001b[1;32m    397\u001b[0m         \u001b[0mkwargs\u001b[0m\u001b[0;34m[\u001b[0m\u001b[0;34m\"compute_error\"\u001b[0m\u001b[0;34m]\u001b[0m \u001b[0;34m=\u001b[0m \u001b[0mcheck_convergence\u001b[0m \u001b[0;32mor\u001b[0m \u001b[0mi\u001b[0m \u001b[0;34m==\u001b[0m \u001b[0mn_iter\u001b[0m \u001b[0;34m-\u001b[0m \u001b[0;36m1\u001b[0m\u001b[0;34m\u001b[0m\u001b[0;34m\u001b[0m\u001b[0m\n\u001b[1;32m    398\u001b[0m \u001b[0;34m\u001b[0m\u001b[0m\n\u001b[0;32m--> 399\u001b[0;31m         \u001b[0merror\u001b[0m\u001b[0;34m,\u001b[0m \u001b[0mgrad\u001b[0m \u001b[0;34m=\u001b[0m \u001b[0mobjective\u001b[0m\u001b[0;34m(\u001b[0m\u001b[0mp\u001b[0m\u001b[0;34m,\u001b[0m \u001b[0;34m*\u001b[0m\u001b[0margs\u001b[0m\u001b[0;34m,\u001b[0m \u001b[0;34m**\u001b[0m\u001b[0mkwargs\u001b[0m\u001b[0;34m)\u001b[0m\u001b[0;34m\u001b[0m\u001b[0;34m\u001b[0m\u001b[0m\n\u001b[0m\u001b[1;32m    400\u001b[0m \u001b[0;34m\u001b[0m\u001b[0m\n\u001b[1;32m    401\u001b[0m         \u001b[0minc\u001b[0m \u001b[0;34m=\u001b[0m \u001b[0mupdate\u001b[0m \u001b[0;34m*\u001b[0m \u001b[0mgrad\u001b[0m \u001b[0;34m<\u001b[0m \u001b[0;36m0.0\u001b[0m\u001b[0;34m\u001b[0m\u001b[0;34m\u001b[0m\u001b[0m\n",
            "\u001b[0;32m/usr/local/lib/python3.10/dist-packages/sklearn/manifold/_t_sne.py\u001b[0m in \u001b[0;36m_kl_divergence\u001b[0;34m(params, P, degrees_of_freedom, n_samples, n_components, skip_num_points, compute_error)\u001b[0m\n\u001b[1;32m    194\u001b[0m     \u001b[0mPQd\u001b[0m \u001b[0;34m=\u001b[0m \u001b[0msquareform\u001b[0m\u001b[0;34m(\u001b[0m\u001b[0;34m(\u001b[0m\u001b[0mP\u001b[0m \u001b[0;34m-\u001b[0m \u001b[0mQ\u001b[0m\u001b[0;34m)\u001b[0m \u001b[0;34m*\u001b[0m \u001b[0mdist\u001b[0m\u001b[0;34m)\u001b[0m\u001b[0;34m\u001b[0m\u001b[0;34m\u001b[0m\u001b[0m\n\u001b[1;32m    195\u001b[0m     \u001b[0;32mfor\u001b[0m \u001b[0mi\u001b[0m \u001b[0;32min\u001b[0m \u001b[0mrange\u001b[0m\u001b[0;34m(\u001b[0m\u001b[0mskip_num_points\u001b[0m\u001b[0;34m,\u001b[0m \u001b[0mn_samples\u001b[0m\u001b[0;34m)\u001b[0m\u001b[0;34m:\u001b[0m\u001b[0;34m\u001b[0m\u001b[0;34m\u001b[0m\u001b[0m\n\u001b[0;32m--> 196\u001b[0;31m         \u001b[0mgrad\u001b[0m\u001b[0;34m[\u001b[0m\u001b[0mi\u001b[0m\u001b[0;34m]\u001b[0m \u001b[0;34m=\u001b[0m \u001b[0mnp\u001b[0m\u001b[0;34m.\u001b[0m\u001b[0mdot\u001b[0m\u001b[0;34m(\u001b[0m\u001b[0mnp\u001b[0m\u001b[0;34m.\u001b[0m\u001b[0mravel\u001b[0m\u001b[0;34m(\u001b[0m\u001b[0mPQd\u001b[0m\u001b[0;34m[\u001b[0m\u001b[0mi\u001b[0m\u001b[0;34m]\u001b[0m\u001b[0;34m,\u001b[0m \u001b[0morder\u001b[0m\u001b[0;34m=\u001b[0m\u001b[0;34m\"K\"\u001b[0m\u001b[0;34m)\u001b[0m\u001b[0;34m,\u001b[0m \u001b[0mX_embedded\u001b[0m\u001b[0;34m[\u001b[0m\u001b[0mi\u001b[0m\u001b[0;34m]\u001b[0m \u001b[0;34m-\u001b[0m \u001b[0mX_embedded\u001b[0m\u001b[0;34m)\u001b[0m\u001b[0;34m\u001b[0m\u001b[0;34m\u001b[0m\u001b[0m\n\u001b[0m\u001b[1;32m    197\u001b[0m     \u001b[0mgrad\u001b[0m \u001b[0;34m=\u001b[0m \u001b[0mgrad\u001b[0m\u001b[0;34m.\u001b[0m\u001b[0mravel\u001b[0m\u001b[0;34m(\u001b[0m\u001b[0;34m)\u001b[0m\u001b[0;34m\u001b[0m\u001b[0;34m\u001b[0m\u001b[0m\n\u001b[1;32m    198\u001b[0m     \u001b[0mc\u001b[0m \u001b[0;34m=\u001b[0m \u001b[0;36m2.0\u001b[0m \u001b[0;34m*\u001b[0m \u001b[0;34m(\u001b[0m\u001b[0mdegrees_of_freedom\u001b[0m \u001b[0;34m+\u001b[0m \u001b[0;36m1.0\u001b[0m\u001b[0;34m)\u001b[0m \u001b[0;34m/\u001b[0m \u001b[0mdegrees_of_freedom\u001b[0m\u001b[0;34m\u001b[0m\u001b[0;34m\u001b[0m\u001b[0m\n",
            "\u001b[0;32m/usr/local/lib/python3.10/dist-packages/numpy/core/overrides.py\u001b[0m in \u001b[0;36mdot\u001b[0;34m(*args, **kwargs)\u001b[0m\n",
            "\u001b[0;31mKeyboardInterrupt\u001b[0m: "
          ]
        }
      ]
    },
    {
      "cell_type": "code",
      "source": [
        "# np.save(\"tsne_traindata.npy\", X_embedded)"
      ],
      "metadata": {
        "id": "uzZQgQUNzsc3"
      },
      "execution_count": null,
      "outputs": []
    },
    {
      "cell_type": "markdown",
      "source": [
        "### Reinit LIT_SupCon with freezed encoder model"
      ],
      "metadata": {
        "id": "Pd1h5K6hm2Mm"
      }
    },
    {
      "cell_type": "code",
      "source": [
        "clf_lit = LIT_SupCon(bestEnc.model, projector, classifier, isContrastive=False)\n",
        "\n",
        "summary = ModelSummary(clf_lit, max_depth=-1)\n",
        "# print(summary)"
      ],
      "metadata": {
        "id": "TE6pr6ifmld0"
      },
      "execution_count": null,
      "outputs": []
    },
    {
      "cell_type": "markdown",
      "source": [
        "### Callbacks & trainer"
      ],
      "metadata": {
        "id": "svCWb3ufnPed"
      }
    },
    {
      "cell_type": "code",
      "source": [
        "# Checkpoint\n",
        "checkpoint_callback_clf = ModelCheckpoint(dirpath=CONFIG['checkpoint_path'],\n",
        "                                      filename='{epoch}-{Acc:.3f}',\n",
        "                                      monitor='Acc', # Need to change this everytime\n",
        "                                      save_top_k=5,\n",
        "                                      save_last=True,\n",
        "                                      save_weights_only=True,\n",
        "                                      verbose=True,\n",
        "                                      mode='max')"
      ],
      "metadata": {
        "id": "a_3ezLzImtKv"
      },
      "execution_count": null,
      "outputs": []
    },
    {
      "cell_type": "code",
      "source": [
        "trainer_clf = pl.Trainer(fast_dev_run=False,    # For debugging purposes\n",
        "                     log_every_n_steps=1,   # set the logging frequency\n",
        "                     accelerator='auto',    # Precedence: tpu > gpu >> cpu\n",
        "                     devices=\"auto\",        # all\n",
        "                     max_epochs=10, # number of epochs\n",
        "                     callbacks=[TQDMProgressBar(refresh_rate=25), \n",
        "                                checkpoint_callback_clf],\n",
        "                     logger=wandb_logger,    # wandb <3\n",
        "                     )"
      ],
      "metadata": {
        "colab": {
          "base_uri": "https://localhost:8080/"
        },
        "id": "cZm6PK5_ncIi",
        "outputId": "df9df4d1-b970-42e7-9b61-6463e7816465"
      },
      "execution_count": null,
      "outputs": [
        {
          "output_type": "stream",
          "name": "stderr",
          "text": [
            "INFO: GPU available: True (cuda), used: True\n",
            "INFO:lightning.pytorch.utilities.rank_zero:GPU available: True (cuda), used: True\n",
            "INFO: TPU available: False, using: 0 TPU cores\n",
            "INFO:lightning.pytorch.utilities.rank_zero:TPU available: False, using: 0 TPU cores\n",
            "INFO: IPU available: False, using: 0 IPUs\n",
            "INFO:lightning.pytorch.utilities.rank_zero:IPU available: False, using: 0 IPUs\n",
            "INFO: HPU available: False, using: 0 HPUs\n",
            "INFO:lightning.pytorch.utilities.rank_zero:HPU available: False, using: 0 HPUs\n"
          ]
        }
      ]
    },
    {
      "cell_type": "markdown",
      "source": [
        "### Train classifier on single sampled train dataset"
      ],
      "metadata": {
        "id": "cqF5tEA3nqDC"
      }
    },
    {
      "cell_type": "code",
      "source": [
        "trainer_clf.fit(clf_lit, trainloader)"
      ],
      "metadata": {
        "colab": {
          "base_uri": "https://localhost:8080/",
          "height": 954,
          "referenced_widgets": [
            "c019cd5906d940ba950ce72fb45908ae",
            "31a0214e68cc4c1cb7b49f0a636a3cd1",
            "4ebea7995de447489c3ad1d24f7aae97",
            "556f574ead6d4dd49928d623a132ce78",
            "3ba4d725c7674176a3f008922e0cee77",
            "7c62d3d1abc24a608c2ae6afe74410ff",
            "a07f86133e3e42ffa5b1445648c68f18",
            "cb744acac3784a858bd2bd5489458cb2",
            "8397074bf0844681ad448c071cba4acd",
            "c6e68cd51dce4b2da9f8da67d4142eef",
            "af821f2d76b048b7b4339fe6e9a1a14f"
          ]
        },
        "id": "L8k2uLhrnpYt",
        "outputId": "99af35d4-ad12-4f1a-abfc-14753c922034"
      },
      "execution_count": null,
      "outputs": [
        {
          "output_type": "stream",
          "name": "stderr",
          "text": [
            "/usr/local/lib/python3.10/dist-packages/lightning/pytorch/utilities/parsing.py:44: UserWarning: attribute 'classifier' removed from hparams because it cannot be pickled\n",
            "  rank_zero_warn(f\"attribute '{k}' removed from hparams because it cannot be pickled\")\n",
            "/usr/local/lib/python3.10/dist-packages/lightning/pytorch/callbacks/model_checkpoint.py:612: UserWarning: Checkpoint directory /content/checkpoints exists and is not empty.\n",
            "  rank_zero_warn(f\"Checkpoint directory {dirpath} exists and is not empty.\")\n",
            "INFO: LOCAL_RANK: 0 - CUDA_VISIBLE_DEVICES: [0]\n",
            "INFO:lightning.pytorch.accelerators.cuda:LOCAL_RANK: 0 - CUDA_VISIBLE_DEVICES: [0]\n",
            "INFO: \n",
            "  | Name       | Type             | Params\n",
            "------------------------------------------------\n",
            "0 | model      | EfficientNet     | 21.2 M\n",
            "1 | criterion  | CrossEntropyLoss | 0     \n",
            "2 | classifier | ClassifierNet    | 20.5 K\n",
            "------------------------------------------------\n",
            "20.5 K    Trainable params\n",
            "21.2 M    Non-trainable params\n",
            "21.2 M    Total params\n",
            "84.965    Total estimated model params size (MB)\n",
            "INFO:lightning.pytorch.callbacks.model_summary:\n",
            "  | Name       | Type             | Params\n",
            "------------------------------------------------\n",
            "0 | model      | EfficientNet     | 21.2 M\n",
            "1 | criterion  | CrossEntropyLoss | 0     \n",
            "2 | classifier | ClassifierNet    | 20.5 K\n",
            "------------------------------------------------\n",
            "20.5 K    Trainable params\n",
            "21.2 M    Non-trainable params\n",
            "21.2 M    Total params\n",
            "84.965    Total estimated model params size (MB)\n"
          ]
        },
        {
          "output_type": "display_data",
          "data": {
            "text/plain": [
              "Training: 0it [00:00, ?it/s]"
            ],
            "application/vnd.jupyter.widget-view+json": {
              "version_major": 2,
              "version_minor": 0,
              "model_id": "c019cd5906d940ba950ce72fb45908ae"
            }
          },
          "metadata": {}
        },
        {
          "output_type": "stream",
          "name": "stderr",
          "text": [
            "INFO: Epoch 0, global step 1250: 'Acc' reached 12.62000 (best 12.62000), saving model to '/content/checkpoints/epoch=0-Acc=12.620.ckpt' as top 5\n",
            "INFO:lightning.pytorch.utilities.rank_zero:Epoch 0, global step 1250: 'Acc' reached 12.62000 (best 12.62000), saving model to '/content/checkpoints/epoch=0-Acc=12.620.ckpt' as top 5\n",
            "INFO: Epoch 1, global step 2500: 'Acc' reached 12.84000 (best 12.84000), saving model to '/content/checkpoints/epoch=1-Acc=12.840.ckpt' as top 5\n",
            "INFO:lightning.pytorch.utilities.rank_zero:Epoch 1, global step 2500: 'Acc' reached 12.84000 (best 12.84000), saving model to '/content/checkpoints/epoch=1-Acc=12.840.ckpt' as top 5\n",
            "INFO: Epoch 2, global step 3750: 'Acc' reached 12.64000 (best 12.84000), saving model to '/content/checkpoints/epoch=2-Acc=12.640.ckpt' as top 5\n",
            "INFO:lightning.pytorch.utilities.rank_zero:Epoch 2, global step 3750: 'Acc' reached 12.64000 (best 12.84000), saving model to '/content/checkpoints/epoch=2-Acc=12.640.ckpt' as top 5\n",
            "INFO: Epoch 3, global step 5000: 'Acc' reached 12.40000 (best 12.84000), saving model to '/content/checkpoints/epoch=3-Acc=12.400.ckpt' as top 5\n",
            "INFO:lightning.pytorch.utilities.rank_zero:Epoch 3, global step 5000: 'Acc' reached 12.40000 (best 12.84000), saving model to '/content/checkpoints/epoch=3-Acc=12.400.ckpt' as top 5\n",
            "INFO: Epoch 4, global step 6250: 'Acc' reached 12.54000 (best 12.84000), saving model to '/content/checkpoints/epoch=4-Acc=12.540.ckpt' as top 5\n",
            "INFO:lightning.pytorch.utilities.rank_zero:Epoch 4, global step 6250: 'Acc' reached 12.54000 (best 12.84000), saving model to '/content/checkpoints/epoch=4-Acc=12.540.ckpt' as top 5\n",
            "INFO: Epoch 5, global step 7500: 'Acc' reached 12.70000 (best 12.84000), saving model to '/content/checkpoints/epoch=5-Acc=12.700.ckpt' as top 5\n",
            "INFO:lightning.pytorch.utilities.rank_zero:Epoch 5, global step 7500: 'Acc' reached 12.70000 (best 12.84000), saving model to '/content/checkpoints/epoch=5-Acc=12.700.ckpt' as top 5\n",
            "INFO: Epoch 6, global step 8750: 'Acc' reached 12.56000 (best 12.84000), saving model to '/content/checkpoints/epoch=6-Acc=12.560.ckpt' as top 5\n",
            "INFO:lightning.pytorch.utilities.rank_zero:Epoch 6, global step 8750: 'Acc' reached 12.56000 (best 12.84000), saving model to '/content/checkpoints/epoch=6-Acc=12.560.ckpt' as top 5\n",
            "INFO: Epoch 7, global step 10000: 'Acc' reached 12.84000 (best 12.84000), saving model to '/content/checkpoints/epoch=7-Acc=12.840.ckpt' as top 5\n",
            "INFO:lightning.pytorch.utilities.rank_zero:Epoch 7, global step 10000: 'Acc' reached 12.84000 (best 12.84000), saving model to '/content/checkpoints/epoch=7-Acc=12.840.ckpt' as top 5\n",
            "INFO: Epoch 8, global step 11250: 'Acc' was not in top 5\n",
            "INFO:lightning.pytorch.utilities.rank_zero:Epoch 8, global step 11250: 'Acc' was not in top 5\n",
            "INFO: Epoch 9, global step 12500: 'Acc' was not in top 5\n",
            "INFO:lightning.pytorch.utilities.rank_zero:Epoch 9, global step 12500: 'Acc' was not in top 5\n",
            "INFO: `Trainer.fit` stopped: `max_epochs=10` reached.\n",
            "INFO:lightning.pytorch.utilities.rank_zero:`Trainer.fit` stopped: `max_epochs=10` reached.\n"
          ]
        }
      ]
    },
    {
      "cell_type": "markdown",
      "source": [
        "## Testing"
      ],
      "metadata": {
        "id": "53NFOBATHLBM"
      }
    },
    {
      "cell_type": "code",
      "source": [
        "trainer_clf.test(clf_lit, testloader)"
      ],
      "metadata": {
        "colab": {
          "base_uri": "https://localhost:8080/",
          "height": 216,
          "referenced_widgets": [
            "2f760fa98c2a4a39a0143e1f300edd1b",
            "d68c5baa161641fda32088cb07f09504",
            "9fc4ed64f188468a9aa7f366705c1015",
            "a73cae6f4a704ccea2b81e0605aac325",
            "5535f7d1dced4a3bba40bdd18519461e",
            "a70d7a3fb148441d80fe05b971bd3d35",
            "e12fc87eef4844b69dcfb70792f268be",
            "eb0e1f444341484687292337bb71b251",
            "8af0dd21b64c4bcca77db42ed9c13f5e",
            "2c965f51b13144b8aeea98e2547d582c",
            "8124da5fec864edfbac6cd8dcbd4aa9d"
          ]
        },
        "id": "xubFNJ_GHMf1",
        "outputId": "f8ae246e-82e3-4603-8b24-00cbd46fc747"
      },
      "execution_count": null,
      "outputs": [
        {
          "output_type": "stream",
          "name": "stderr",
          "text": [
            "INFO: LOCAL_RANK: 0 - CUDA_VISIBLE_DEVICES: [0]\n",
            "INFO:lightning.pytorch.accelerators.cuda:LOCAL_RANK: 0 - CUDA_VISIBLE_DEVICES: [0]\n"
          ]
        },
        {
          "output_type": "display_data",
          "data": {
            "text/plain": [
              "Testing: 0it [00:00, ?it/s]"
            ],
            "application/vnd.jupyter.widget-view+json": {
              "version_major": 2,
              "version_minor": 0,
              "model_id": "2f760fa98c2a4a39a0143e1f300edd1b"
            }
          },
          "metadata": {}
        },
        {
          "output_type": "display_data",
          "data": {
            "text/plain": [
              "┏━━━━━━━━━━━━━━━━━━━━━━━━━━━┳━━━━━━━━━━━━━━━━━━━━━━━━━━━┓\n",
              "┃\u001b[1m \u001b[0m\u001b[1m       Test metric       \u001b[0m\u001b[1m \u001b[0m┃\u001b[1m \u001b[0m\u001b[1m      DataLoader 0       \u001b[0m\u001b[1m \u001b[0m┃\n",
              "┡━━━━━━━━━━━━━━━━━━━━━━━━━━━╇━━━━━━━━━━━━━━━━━━━━━━━━━━━┩\n",
              "│\u001b[36m \u001b[0m\u001b[36m     Acc_test_epoch      \u001b[0m\u001b[36m \u001b[0m│\u001b[35m \u001b[0m\u001b[35m   11.399999618530273    \u001b[0m\u001b[35m \u001b[0m│\n",
              "│\u001b[36m \u001b[0m\u001b[36m   CE_loss_test_epoch    \u001b[0m\u001b[36m \u001b[0m│\u001b[35m \u001b[0m\u001b[35m    7.912421226501465    \u001b[0m\u001b[35m \u001b[0m│\n",
              "└───────────────────────────┴───────────────────────────┘\n"
            ],
            "text/html": [
              "<pre style=\"white-space:pre;overflow-x:auto;line-height:normal;font-family:Menlo,'DejaVu Sans Mono',consolas,'Courier New',monospace\">┏━━━━━━━━━━━━━━━━━━━━━━━━━━━┳━━━━━━━━━━━━━━━━━━━━━━━━━━━┓\n",
              "┃<span style=\"font-weight: bold\">        Test metric        </span>┃<span style=\"font-weight: bold\">       DataLoader 0        </span>┃\n",
              "┡━━━━━━━━━━━━━━━━━━━━━━━━━━━╇━━━━━━━━━━━━━━━━━━━━━━━━━━━┩\n",
              "│<span style=\"color: #008080; text-decoration-color: #008080\">      Acc_test_epoch       </span>│<span style=\"color: #800080; text-decoration-color: #800080\">    11.399999618530273     </span>│\n",
              "│<span style=\"color: #008080; text-decoration-color: #008080\">    CE_loss_test_epoch     </span>│<span style=\"color: #800080; text-decoration-color: #800080\">     7.912421226501465     </span>│\n",
              "└───────────────────────────┴───────────────────────────┘\n",
              "</pre>\n"
            ]
          },
          "metadata": {}
        },
        {
          "output_type": "execute_result",
          "data": {
            "text/plain": [
              "[{'CE_loss_test_epoch': 7.912421226501465,\n",
              "  'Acc_test_epoch': 11.399999618530273}]"
            ]
          },
          "metadata": {},
          "execution_count": 68
        }
      ]
    },
    {
      "cell_type": "markdown",
      "source": [
        "## Finish Logging Session"
      ],
      "metadata": {
        "id": "Az15iUrgHdR9"
      }
    },
    {
      "cell_type": "code",
      "source": [
        "wandb.finish()"
      ],
      "metadata": {
        "id": "gVTejTqbHJ85",
        "colab": {
          "base_uri": "https://localhost:8080/",
          "height": 449
        },
        "outputId": "15ea9fb4-c1df-43e7-9ec0-80e92b0a3ca4"
      },
      "execution_count": null,
      "outputs": [
        {
          "output_type": "display_data",
          "data": {
            "text/plain": [
              "<IPython.core.display.HTML object>"
            ],
            "text/html": [
              "Waiting for W&B process to finish... <strong style=\"color:green\">(success).</strong>"
            ]
          },
          "metadata": {}
        },
        {
          "output_type": "display_data",
          "data": {
            "text/plain": [
              "<IPython.core.display.HTML object>"
            ],
            "text/html": [
              "<style>\n",
              "    table.wandb td:nth-child(1) { padding: 0 10px; text-align: left ; width: auto;} td:nth-child(2) {text-align: left ; width: 100%}\n",
              "    .wandb-row { display: flex; flex-direction: row; flex-wrap: wrap; justify-content: flex-start; width: 100% }\n",
              "    .wandb-col { display: flex; flex-direction: column; flex-basis: 100%; flex: 1; padding: 10px; }\n",
              "    </style>\n",
              "<div class=\"wandb-row\"><div class=\"wandb-col\"><h3>Run history:</h3><br/><table class=\"wandb\"><tr><td>Acc_epoch</td><td>▆█▇▅▆▇▆█▂▁</td></tr><tr><td>Acc_step</td><td>▁▁▁█████▁████▁▁▁▁████▁█▁▁▁▁█▁█▁▁▁▁▁▁▁▁▁█</td></tr><tr><td>Acc_test_epoch</td><td>▁</td></tr><tr><td>Acc_test_step</td><td>█▁▁▅▁▁▁▁█▁▁▁▅▁▅▁▁▁▁▅▁▅▁▁▁▁▁▁▅▅▁▁▅▅▁▁▅▁▅▁</td></tr><tr><td>CE_loss_epoch</td><td>▃▄▁█▄▇▆▁██</td></tr><tr><td>CE_loss_step</td><td>█▇▃▅▆▃▃▄▆▁▇▄▂▄▅▆▆▄▂▂▄▅▂▇▅▆▆▂▄▆▄▅▆▃▇▃▆▇▄▅</td></tr><tr><td>CE_loss_test_epoch</td><td>▁</td></tr><tr><td>CE_loss_test_step</td><td>▁▁▁▁▁▁▁▁▁▁▁▁▁▁▁▁▁▁▁▁▁▁▁▃▁▁▁▁▁▁▁▅▁▁▄▁▁▁█▁</td></tr><tr><td>SupCon_loss_epoch</td><td>█▆▆▅▃▂▂▁▁▁</td></tr><tr><td>SupCon_loss_step</td><td>█▂▃▁▂▄▇▅▄▇▄▆▄▂▂▂▃▅▄▁▄▃▂▂▂▁▂▂▁▂▂▄▁▂▂▃▁▁▃▂</td></tr><tr><td>epoch</td><td>▁▁▂▂▃▃▃▃▄▄▅▅▆▆▆▆▇▇██▁▁▂▂▃▃▃▃▄▄▅▅▆▆▆▆▇▇██</td></tr><tr><td>lr-Adam</td><td>▁▄█▄█▄█▄▇▃▇▃▇▃▇▇▇█▇█▇█▇█▆█▆█▆█▆█▇█▇█▇█▇█</td></tr><tr><td>lr-Adam-momentum</td><td>▁▁▁▁▁▁▁▁▁▁▁▁▁▁▁▁▁▁▁▁▁▁▁▁▁▁▁▁▁▁▁▁▁▁▁▁▁▁▁▁</td></tr><tr><td>trainer/global_step</td><td>▁▁▂▂▂▂▃▃▃▃▄▄▄▅▅▅▅▆▆▆▆▇▇▇██▁▁▂▂▃▄▄▅▅▆▆▇▇█</td></tr></table><br/></div><div class=\"wandb-col\"><h3>Run summary:</h3><br/><table class=\"wandb\"><tr><td>Acc_epoch</td><td>11.9</td></tr><tr><td>Acc_step</td><td>25.0</td></tr><tr><td>Acc_test_epoch</td><td>11.4</td></tr><tr><td>Acc_test_step</td><td>0.0</td></tr><tr><td>CE_loss_epoch</td><td>2.34902</td></tr><tr><td>CE_loss_step</td><td>2.17252</td></tr><tr><td>CE_loss_test_epoch</td><td>7.91242</td></tr><tr><td>CE_loss_test_step</td><td>2.35955</td></tr><tr><td>SupCon_loss_epoch</td><td>0.99225</td></tr><tr><td>SupCon_loss_step</td><td>0.42799</td></tr><tr><td>epoch</td><td>10</td></tr><tr><td>lr-Adam</td><td>0.0001</td></tr><tr><td>lr-Adam-momentum</td><td>0.9</td></tr><tr><td>trainer/global_step</td><td>12500</td></tr></table><br/></div></div>"
            ]
          },
          "metadata": {}
        },
        {
          "output_type": "display_data",
          "data": {
            "text/plain": [
              "<IPython.core.display.HTML object>"
            ],
            "text/html": [
              " View run <strong style=\"color:#cdcd00\">exp-2_No_AutoAug_10perc</strong> at: <a href='https://wandb.ai/aryangarg019/Supervised_Contrastive/runs/ldmurcdr' target=\"_blank\">https://wandb.ai/aryangarg019/Supervised_Contrastive/runs/ldmurcdr</a><br/>Synced 5 W&B file(s), 0 media file(s), 20 artifact file(s) and 0 other file(s)"
            ]
          },
          "metadata": {}
        },
        {
          "output_type": "display_data",
          "data": {
            "text/plain": [
              "<IPython.core.display.HTML object>"
            ],
            "text/html": [
              "Find logs at: <code>./wandb/run-20230605_083257-ldmurcdr/logs</code>"
            ]
          },
          "metadata": {}
        }
      ]
    },
    {
      "cell_type": "markdown",
      "source": [
        "---\n",
        "---"
      ],
      "metadata": {
        "id": "4_Ez6ujQARug"
      }
    }
  ]
}